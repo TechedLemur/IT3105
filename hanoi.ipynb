{
 "cells": [
  {
   "cell_type": "code",
   "execution_count": 14,
   "metadata": {},
   "outputs": [
    {
     "name": "stdout",
     "output_type": "stream",
     "text": [
      "The autoreload extension is already loaded. To reload it, use:\n",
      "  %reload_ext autoreload\n"
     ]
    }
   ],
   "source": [
    "%load_ext autoreload\n",
    "%autoreload 2"
   ]
  },
  {
   "cell_type": "code",
   "execution_count": 15,
   "metadata": {},
   "outputs": [],
   "source": [
    "from simulations.hanoi_simulator import HanoiSimulator"
   ]
  },
  {
   "cell_type": "code",
   "execution_count": 16,
   "metadata": {},
   "outputs": [],
   "source": [
    "sim = HanoiSimulator()"
   ]
  },
  {
   "cell_type": "code",
   "execution_count": 17,
   "metadata": {},
   "outputs": [],
   "source": [
    "sim.run(verbose=True)"
   ]
  },
  {
   "cell_type": "code",
   "execution_count": null,
   "metadata": {},
   "outputs": [
    {
     "data": {
      "image/png": "[encoded data removed]",
      "text/plain": [
       "<Figure size 432x288 with 1 Axes>"
      ]
     },
     "metadata": {
      "needs_background": "light"
     },
     "output_type": "display_data"
    }
   ],
   "source": [
    "sim.plot_learning()"
   ]
  },
  {
   "cell_type": "code",
   "execution_count": null,
   "metadata": {},
   "outputs": [
    {
     "name": "stdout",
     "output_type": "stream",
     "text": [
      "[7, 7, 7, 7, 7, 9, 10, 7, 7, 9]\n"
     ]
    }
   ],
   "source": [
    "print(sim.scores[-10:])"
   ]
  },
  {
   "cell_type": "code",
   "execution_count": null,
   "metadata": {},
   "outputs": [
    {
     "name": "stdout",
     "output_type": "stream",
     "text": [
      "Initial state: \n",
      "    *                            \n",
      "   ***                           \n",
      "  *****                          \n",
      "__________ __________ __________ \n",
      "\n",
      "\n",
      "Step 1:\n",
      "                                 \n",
      "   ***                           \n",
      "  *****        *                 \n",
      "__________ __________ __________ \n",
      "\n",
      "\n",
      "Step 2:\n",
      "                                 \n",
      "                                 \n",
      "  *****        *         ***     \n",
      "__________ __________ __________ \n",
      "\n",
      "\n",
      "Step 3:\n",
      "                                 \n",
      "                          *      \n",
      "  *****                  ***     \n",
      "__________ __________ __________ \n",
      "\n",
      "\n",
      "Step 4:\n",
      "                                 \n",
      "                          *      \n",
      "             *****       ***     \n",
      "__________ __________ __________ \n",
      "\n",
      "\n",
      "Step 5:\n",
      "                                 \n",
      "                                 \n",
      "    *        *****       ***     \n",
      "__________ __________ __________ \n",
      "\n",
      "\n",
      "Step 6:\n",
      "                                 \n",
      "              ***                \n",
      "    *        *****               \n",
      "__________ __________ __________ \n",
      "\n",
      "\n",
      "Step 7:\n",
      "               *                 \n",
      "              ***                \n",
      "             *****               \n",
      "__________ __________ __________ \n",
      "\n",
      "\n"
     ]
    }
   ],
   "source": [
    "sim.do_greedy_episode(print_result=True)\n",
    "# sim.do_greedy_strategy_no_learning(print_result=True)"
   ]
  }
 ],
 "metadata": {
  "interpreter": {
   "hash": "6cdaa56f2c6d00e26db56d5b38e6b72bc8bebfb9a50408d42f69785dfa696c20"
  },
  "kernelspec": {
   "display_name": "Python 3.9.7 ('tdt4195')",
   "language": "python",
   "name": "python3"
  },
  "language_info": {
   "codemirror_mode": {
    "name": "ipython",
    "version": 3
   },
   "file_extension": ".py",
   "mimetype": "text/x-python",
   "name": "python",
   "nbconvert_exporter": "python",
   "pygments_lexer": "ipython3",
   "version": "3.9.7"
  },
  "orig_nbformat": 4
 },
 "nbformat": 4,
 "nbformat_minor": 2
}
