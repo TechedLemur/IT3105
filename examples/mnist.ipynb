{
 "cells": [
  {
   "cell_type": "code",
   "execution_count": 8,
   "metadata": {},
   "outputs": [],
   "source": [
    "import numpy as np\n",
    "from tensorflow import keras\n",
    "from tensorflow.keras import layers"
   ]
  },
  {
   "cell_type": "code",
   "execution_count": 9,
   "metadata": {},
   "outputs": [
    {
     "name": "stdout",
     "output_type": "stream",
     "text": [
      "Downloading data from https://storage.googleapis.com/tensorflow/tf-keras-datasets/mnist.npz\n",
      "11493376/11490434 [==============================] - 1s 0us/step\n",
      "11501568/11490434 [==============================] - 1s 0us/step\n",
      "x_train shape: (60000, 28, 28, 1)\n",
      "60000 train samples\n",
      "10000 test samples\n"
     ]
    }
   ],
   "source": [
    "# Model / data parameters\n",
    "num_classes = 10\n",
    "input_shape = (28, 28, 1)\n",
    "\n",
    "# the data, split between train and test sets\n",
    "(x_train, y_train), (x_test, y_test) = keras.datasets.mnist.load_data()\n",
    "\n",
    "# Scale images to the [0, 1] range\n",
    "x_train = x_train.astype(\"float32\") / 255\n",
    "x_test = x_test.astype(\"float32\") / 255\n",
    "# Make sure images have shape (28, 28, 1)\n",
    "x_train = np.expand_dims(x_train, -1)\n",
    "x_test = np.expand_dims(x_test, -1)\n",
    "print(\"x_train shape:\", x_train.shape)\n",
    "print(x_train.shape[0], \"train samples\")\n",
    "print(x_test.shape[0], \"test samples\")\n",
    "\n",
    "\n",
    "# convert class vectors to binary class matrices\n",
    "y_train = keras.utils.to_categorical(y_train, num_classes)\n",
    "y_test = keras.utils.to_categorical(y_test, num_classes)"
   ]
  },
  {
   "cell_type": "code",
   "execution_count": 10,
   "metadata": {},
   "outputs": [
    {
     "name": "stdout",
     "output_type": "stream",
     "text": [
      "Model: \"sequential\"\n",
      "_________________________________________________________________\n",
      " Layer (type)                Output Shape              Param #   \n",
      "=================================================================\n",
      " conv2d (Conv2D)             (None, 26, 26, 32)        320       \n",
      "                                                                 \n",
      " max_pooling2d (MaxPooling2D  (None, 13, 13, 32)       0         \n",
      " )                                                               \n",
      "                                                                 \n",
      " conv2d_1 (Conv2D)           (None, 11, 11, 64)        18496     \n",
      "                                                                 \n",
      " max_pooling2d_1 (MaxPooling  (None, 5, 5, 64)         0         \n",
      " 2D)                                                             \n",
      "                                                                 \n",
      " flatten (Flatten)           (None, 1600)              0         \n",
      "                                                                 \n",
      " dropout (Dropout)           (None, 1600)              0         \n",
      "                                                                 \n",
      " dense (Dense)               (None, 10)                16010     \n",
      "                                                                 \n",
      "=================================================================\n",
      "Total params: 34,826\n",
      "Trainable params: 34,826\n",
      "Non-trainable params: 0\n",
      "_________________________________________________________________\n"
     ]
    }
   ],
   "source": [
    "model = keras.Sequential(\n",
    "    [\n",
    "        keras.Input(shape=input_shape),\n",
    "        layers.Conv2D(32, kernel_size=(3, 3), activation=\"relu\"),\n",
    "        layers.MaxPooling2D(pool_size=(2, 2)),\n",
    "        layers.Conv2D(64, kernel_size=(3, 3), activation=\"relu\"),\n",
    "        layers.MaxPooling2D(pool_size=(2, 2)),\n",
    "        layers.Flatten(),\n",
    "        layers.Dropout(0.5),\n",
    "        layers.Dense(num_classes, activation=\"softmax\"),\n",
    "    ]\n",
    ")\n",
    "\n",
    "model.summary()"
   ]
  },
  {
   "cell_type": "code",
   "execution_count": 11,
   "metadata": {},
   "outputs": [
    {
     "name": "stdout",
     "output_type": "stream",
     "text": [
      "Epoch 1/15\n",
      "422/422 [==============================] - 14s 9ms/step - loss: 0.3719 - accuracy: 0.8859 - val_loss: 0.0826 - val_accuracy: 0.9775\n",
      "Epoch 2/15\n",
      "422/422 [==============================] - 3s 8ms/step - loss: 0.1140 - accuracy: 0.9646 - val_loss: 0.0565 - val_accuracy: 0.9862\n",
      "Epoch 3/15\n",
      "422/422 [==============================] - 3s 8ms/step - loss: 0.0844 - accuracy: 0.9744 - val_loss: 0.0480 - val_accuracy: 0.9880\n",
      "Epoch 4/15\n",
      "422/422 [==============================] - 3s 8ms/step - loss: 0.0715 - accuracy: 0.9783 - val_loss: 0.0412 - val_accuracy: 0.9902\n",
      "Epoch 5/15\n",
      "422/422 [==============================] - 3s 8ms/step - loss: 0.0636 - accuracy: 0.9803 - val_loss: 0.0383 - val_accuracy: 0.9900\n",
      "Epoch 6/15\n",
      "422/422 [==============================] - 3s 8ms/step - loss: 0.0565 - accuracy: 0.9823 - val_loss: 0.0333 - val_accuracy: 0.9907\n",
      "Epoch 7/15\n",
      "422/422 [==============================] - 3s 8ms/step - loss: 0.0538 - accuracy: 0.9832 - val_loss: 0.0307 - val_accuracy: 0.9917\n",
      "Epoch 8/15\n",
      "422/422 [==============================] - 3s 7ms/step - loss: 0.0483 - accuracy: 0.9847 - val_loss: 0.0300 - val_accuracy: 0.9928\n",
      "Epoch 9/15\n",
      "422/422 [==============================] - 3s 7ms/step - loss: 0.0472 - accuracy: 0.9850 - val_loss: 0.0307 - val_accuracy: 0.9905\n",
      "Epoch 10/15\n",
      "422/422 [==============================] - 3s 8ms/step - loss: 0.0436 - accuracy: 0.9866 - val_loss: 0.0298 - val_accuracy: 0.9925\n",
      "Epoch 11/15\n",
      "422/422 [==============================] - 3s 8ms/step - loss: 0.0396 - accuracy: 0.9872 - val_loss: 0.0292 - val_accuracy: 0.9927\n",
      "Epoch 12/15\n",
      "422/422 [==============================] - 3s 8ms/step - loss: 0.0388 - accuracy: 0.9875 - val_loss: 0.0276 - val_accuracy: 0.9927\n",
      "Epoch 13/15\n",
      "422/422 [==============================] - 3s 8ms/step - loss: 0.0375 - accuracy: 0.9881 - val_loss: 0.0286 - val_accuracy: 0.9917\n",
      "Epoch 14/15\n",
      "422/422 [==============================] - 3s 8ms/step - loss: 0.0354 - accuracy: 0.9889 - val_loss: 0.0255 - val_accuracy: 0.9932\n",
      "Epoch 15/15\n",
      "422/422 [==============================] - 3s 8ms/step - loss: 0.0328 - accuracy: 0.9896 - val_loss: 0.0270 - val_accuracy: 0.9933\n"
     ]
    },
    {
     "data": {
      "text/plain": [
       "<keras.callbacks.History at 0x155350ddf70>"
      ]
     },
     "execution_count": 11,
     "metadata": {},
     "output_type": "execute_result"
    }
   ],
   "source": [
    "batch_size = 128\n",
    "epochs = 15\n",
    "\n",
    "model.compile(loss=\"categorical_crossentropy\", optimizer=\"adam\", metrics=[\"accuracy\"])\n",
    "\n",
    "model.fit(x_train, y_train, batch_size=batch_size, epochs=epochs, validation_split=0.1)"
   ]
  },
  {
   "cell_type": "code",
   "execution_count": 12,
   "metadata": {},
   "outputs": [
    {
     "name": "stdout",
     "output_type": "stream",
     "text": [
      "Test loss: 0.025176800787448883\n",
      "Test accuracy: 0.991599977016449\n"
     ]
    }
   ],
   "source": [
    "score = model.evaluate(x_test, y_test, verbose=0)\n",
    "print(\"Test loss:\", score[0])\n",
    "print(\"Test accuracy:\", score[1])"
   ]
  }
 ],
 "metadata": {
  "interpreter": {
   "hash": "007a8100e7f7ec0c14b1a2b7013e1f1828db56398b64ed82683825c24a44c4f9"
  },
  "kernelspec": {
   "display_name": "Python 3.8.10 64-bit ('venv': venv)",
   "language": "python",
   "name": "python3"
  },
  "language_info": {
   "codemirror_mode": {
    "name": "ipython",
    "version": 3
   },
   "file_extension": ".py",
   "mimetype": "text/x-python",
   "name": "python",
   "nbconvert_exporter": "python",
   "pygments_lexer": "ipython3",
   "version": "3.8.12"
  },
  "orig_nbformat": 4
 },
 "nbformat": 4,
 "nbformat_minor": 2
}
