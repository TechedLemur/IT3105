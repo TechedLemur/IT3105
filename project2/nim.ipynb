{
 "cells": [
  {
   "cell_type": "code",
   "execution_count": 26,
   "metadata": {},
   "outputs": [
    {
     "name": "stdout",
     "output_type": "stream",
     "text": [
      "The autoreload extension is already loaded. To reload it, use:\n",
      "  %reload_ext autoreload\n"
     ]
    },
    {
     "name": "stderr",
     "output_type": "stream",
     "text": [
      "[autoreload of mcts failed: Traceback (most recent call last):\n",
      "  File \"/usr/local/anaconda3/envs/tensorflow/lib/python3.8/site-packages/IPython/extensions/autoreload.py\", line 245, in check\n",
      "    superreload(m, reload, self.old_objects)\n",
      "  File \"/usr/local/anaconda3/envs/tensorflow/lib/python3.8/site-packages/IPython/extensions/autoreload.py\", line 394, in superreload\n",
      "    module = reload(module)\n",
      "  File \"/usr/local/anaconda3/envs/tensorflow/lib/python3.8/imp.py\", line 314, in reload\n",
      "    return importlib.reload(module)\n",
      "  File \"/usr/local/anaconda3/envs/tensorflow/lib/python3.8/importlib/__init__.py\", line 169, in reload\n",
      "    _bootstrap._exec(spec, module)\n",
      "  File \"<frozen importlib._bootstrap>\", line 604, in _exec\n",
      "  File \"<frozen importlib._bootstrap_external>\", line 783, in exec_module\n",
      "  File \"<frozen importlib._bootstrap>\", line 219, in _call_with_frames_removed\n",
      "  File \"/Users/jorgenr/Code/School/IT3105/project2/mcts.py\", line 11, in <module>\n",
      "    from graphviz import Digraph\n",
      "ModuleNotFoundError: No module named 'graphviz'\n",
      "]\n"
     ]
    }
   ],
   "source": [
    "%load_ext autoreload\n",
    "%autoreload 2"
   ]
  },
  {
   "cell_type": "code",
   "execution_count": 27,
   "metadata": {},
   "outputs": [],
   "source": [
    "from gameworlds.nim_world import NimWorld\n",
    "from mcts import MCTS\n",
    "from actor_net import ActorNet\n",
    "import numpy as np"
   ]
  },
  {
   "cell_type": "code",
   "execution_count": 28,
   "metadata": {},
   "outputs": [],
   "source": [
    "world = NimWorld(K=4, N=10, current_pieces=10)\n",
    "state = world.state\n",
    "history = [state]"
   ]
  },
  {
   "cell_type": "code",
   "execution_count": 29,
   "metadata": {},
   "outputs": [],
   "source": [
    "anet = ActorNet(input_shape=10, output_dim=10)"
   ]
  },
  {
   "cell_type": "code",
   "execution_count": null,
   "metadata": {},
   "outputs": [],
   "source": []
  },
  {
   "cell_type": "code",
   "execution_count": 30,
   "metadata": {},
   "outputs": [
    {
     "name": "stdout",
     "output_type": "stream",
     "text": [
      "[NimState(is_final_state=False, pieces=5), (NimAction(pieces=1), NimState(is_final_state=False, pieces=4)), (NimAction(pieces=1), NimState(is_final_state=False, pieces=3)), (NimAction(pieces=1), NimState(is_final_state=False, pieces=2)), (NimAction(pieces=2), NimState(is_final_state=True, pieces=0))]\n",
      "[NimState(is_final_state=False, pieces=5), (NimAction(pieces=1), NimState(is_final_state=False, pieces=4)), (NimAction(pieces=1), NimState(is_final_state=False, pieces=3)), (NimAction(pieces=1), NimState(is_final_state=False, pieces=2)), (NimAction(pieces=2), NimState(is_final_state=True, pieces=0))]\n",
      "[NimState(is_final_state=False, pieces=5), (NimAction(pieces=1), NimState(is_final_state=False, pieces=4)), (NimAction(pieces=1), NimState(is_final_state=False, pieces=3)), (NimAction(pieces=1), NimState(is_final_state=False, pieces=2)), (NimAction(pieces=2), NimState(is_final_state=True, pieces=0))]\n",
      "[NimState(is_final_state=False, pieces=5), (NimAction(pieces=1), NimState(is_final_state=False, pieces=4)), (NimAction(pieces=1), NimState(is_final_state=False, pieces=3)), (NimAction(pieces=1), NimState(is_final_state=False, pieces=2)), (NimAction(pieces=2), NimState(is_final_state=True, pieces=0))]\n"
     ]
    }
   ],
   "source": [
    "wins = np.zeros(100)\n",
    "\n",
    "for i in range(100):\n",
    "    world = NimWorld(K=2, N=5, current_pieces=5)\n",
    "    tree = MCTS(anet, world=world)\n",
    "    player = -1\n",
    "    state = world.state\n",
    "    history = [state]\n",
    "    while not world.get_state().is_final_state:\n",
    "\n",
    "        tree.run_simulations()\n",
    "\n",
    "        \n",
    "        player = -player\n",
    "        action = tree.tree_policy(tree.root, apply_exploraty_bonus=False)\n",
    "\n",
    "        world.do_action(action)\n",
    "        tree.update_root(action)\n",
    "\n",
    "        history.append((action, world.state))\n",
    "    wins[i] = player\n",
    "    if player != 1:\n",
    "        print(history)\n",
    "        \n",
    "\n",
    "\n",
    "    \n"
   ]
  },
  {
   "cell_type": "code",
   "execution_count": 31,
   "metadata": {},
   "outputs": [
    {
     "data": {
      "text/plain": [
       "[NimState(is_final_state=False, pieces=5),\n",
       " (NimAction(pieces=2), NimState(is_final_state=False, pieces=3)),\n",
       " (NimAction(pieces=1), NimState(is_final_state=False, pieces=2)),\n",
       " (NimAction(pieces=2), NimState(is_final_state=True, pieces=0))]"
      ]
     },
     "execution_count": 31,
     "metadata": {},
     "output_type": "execute_result"
    }
   ],
   "source": [
    "history\n",
    "\n",
    "\n"
   ]
  },
  {
   "cell_type": "code",
   "execution_count": 32,
   "metadata": {},
   "outputs": [
    {
     "name": "stdout",
     "output_type": "stream",
     "text": [
      "player 1 won\n",
      "Player 1 won 92.0%\n"
     ]
    }
   ],
   "source": [
    "print(f\"player {player} won\")\n",
    "print(f\"Player 1 won {np.average(wins)*100}%\")"
   ]
  },
  {
   "cell_type": "code",
   "execution_count": 12,
   "metadata": {},
   "outputs": [],
   "source": [
    "# while not state.is_final_state:\n",
    "\n",
    "#     # a = random.choice(world.get_legal_actions())\n",
    "\n",
    "#     state = world.do_action(a)\n",
    "#     history.append(state)"
   ]
  }
 ],
 "metadata": {
  "interpreter": {
   "hash": "6cdaa56f2c6d00e26db56d5b38e6b72bc8bebfb9a50408d42f69785dfa696c20"
  },
  "kernelspec": {
   "display_name": "Python 3.9.7 ('tdt4195')",
   "language": "python",
   "name": "python3"
  },
  "language_info": {
   "codemirror_mode": {
    "name": "ipython",
    "version": 3
   },
   "file_extension": ".py",
   "mimetype": "text/x-python",
   "name": "python",
   "nbconvert_exporter": "python",
   "pygments_lexer": "ipython3",
   "version": "3.8.0"
  },
  "orig_nbformat": 4
 },
 "nbformat": 4,
 "nbformat_minor": 2
}
