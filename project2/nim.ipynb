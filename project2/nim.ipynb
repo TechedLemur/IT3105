{
 "cells": [
  {
   "cell_type": "code",
   "execution_count": 58,
   "metadata": {},
   "outputs": [
    {
     "name": "stdout",
     "output_type": "stream",
     "text": [
      "The autoreload extension is already loaded. To reload it, use:\n",
      "  %reload_ext autoreload\n"
     ]
    }
   ],
   "source": [
    "%load_ext autoreload\n",
    "%autoreload 2"
   ]
  },
  {
   "cell_type": "code",
   "execution_count": 59,
   "metadata": {},
   "outputs": [],
   "source": [
    "from gameworlds.nim_world import NimWorld\n",
    "from mcts import MCTS\n",
    "from actor_net import ActorNet\n",
    "import numpy as np"
   ]
  },
  {
   "cell_type": "code",
   "execution_count": 60,
   "metadata": {},
   "outputs": [],
   "source": [
    "world = NimWorld(K=4, N=10, current_pieces=10)\n",
    "state = world.state\n",
    "history = [state]"
   ]
  },
  {
   "cell_type": "code",
   "execution_count": 61,
   "metadata": {},
   "outputs": [],
   "source": [
    "anet = ActorNet(input_shape=10, output_dim=10)"
   ]
  },
  {
   "cell_type": "code",
   "execution_count": null,
   "metadata": {},
   "outputs": [],
   "source": []
  },
  {
   "cell_type": "code",
   "execution_count": 64,
   "metadata": {},
   "outputs": [
    {
     "name": "stderr",
     "output_type": "stream",
     "text": [
      "/Users/jorgenr/Code/School/IT3105/project2/mcts.py:193: RuntimeWarning: divide by zero encountered in log\n",
      "  return cfg.c * np.sqrt(np.log(N_s) / (1 + N_s_a))\n",
      "/Users/jorgenr/Code/School/IT3105/project2/mcts.py:193: RuntimeWarning: invalid value encountered in sqrt\n",
      "  return cfg.c * np.sqrt(np.log(N_s) / (1 + N_s_a))\n"
     ]
    },
    {
     "name": "stdout",
     "output_type": "stream",
     "text": [
      "Player 1 won 46.0%\n"
     ]
    }
   ],
   "source": [
    "wins = np.zeros(100)\n",
    "\n",
    "for i in range(100):\n",
    "    world = NimWorld(K=2, N=5, current_pieces=10)\n",
    "    tree = MCTS(anet, world=world)\n",
    "    player = -1\n",
    "    state = world.state\n",
    "    history = [state]\n",
    "    while not world.get_state().is_final_state:\n",
    "\n",
    "        tree.run_simulations()\n",
    "\n",
    "        \n",
    "        player = -player\n",
    "        action = tree.get_best_action()\n",
    "\n",
    "        world.do_action(action)\n",
    "\n",
    "        history.append((action, world.state))\n",
    "    wins[i] = player\n",
    "    #if player != 1:\n",
    "    #    print(history)\n",
    "        \n",
    " \n",
    "print(f\"Player 1 won {np.average(wins)*100}%\")\n",
    "    \n"
   ]
  },
  {
   "cell_type": "code",
   "execution_count": 14,
   "metadata": {},
   "outputs": [
    {
     "data": {
      "text/plain": [
       "[NimState(is_final_state=False, pieces=5),\n",
       " (NimAction(pieces=1), NimState(is_final_state=False, pieces=4)),\n",
       " (NimAction(pieces=1), NimState(is_final_state=False, pieces=3)),\n",
       " (NimAction(pieces=1), NimState(is_final_state=False, pieces=2)),\n",
       " (NimAction(pieces=1), NimState(is_final_state=False, pieces=1)),\n",
       " (NimAction(pieces=1), NimState(is_final_state=True, pieces=0))]"
      ]
     },
     "execution_count": 14,
     "metadata": {},
     "output_type": "execute_result"
    }
   ],
   "source": [
    "history\n",
    "\n",
    "\n"
   ]
  },
  {
   "cell_type": "code",
   "execution_count": 28,
   "metadata": {},
   "outputs": [
    {
     "name": "stdout",
     "output_type": "stream",
     "text": [
      "player 1 won\n",
      "Player 1 won 82.0%\n"
     ]
    }
   ],
   "source": [
    "print(f\"player {player} won\")\n",
    "print(f\"Player 1 won {np.average(wins)*100}%\")"
   ]
  },
  {
   "cell_type": "code",
   "execution_count": 12,
   "metadata": {},
   "outputs": [],
   "source": [
    "# while not state.is_final_state:\n",
    "\n",
    "#     # a = random.choice(world.get_legal_actions())\n",
    "\n",
    "#     state = world.do_action(a)\n",
    "#     history.append(state)"
   ]
  }
 ],
 "metadata": {
  "interpreter": {
   "hash": "6cdaa56f2c6d00e26db56d5b38e6b72bc8bebfb9a50408d42f69785dfa696c20"
  },
  "kernelspec": {
   "display_name": "Python 3.9.7 ('tdt4195')",
   "language": "python",
   "name": "python3"
  },
  "language_info": {
   "codemirror_mode": {
    "name": "ipython",
    "version": 3
   },
   "file_extension": ".py",
   "mimetype": "text/x-python",
   "name": "python",
   "nbconvert_exporter": "python",
   "pygments_lexer": "ipython3",
   "version": "3.8.0"
  },
  "orig_nbformat": 4
 },
 "nbformat": 4,
 "nbformat_minor": 2
}
