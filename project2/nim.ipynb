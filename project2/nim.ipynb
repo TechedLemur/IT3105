{
 "cells": [
  {
   "cell_type": "code",
   "execution_count": 1,
   "metadata": {},
   "outputs": [],
   "source": [
    "%load_ext autoreload\n",
    "%autoreload 2"
   ]
  },
  {
   "cell_type": "code",
   "execution_count": 8,
   "metadata": {},
   "outputs": [],
   "source": [
    "from gameworlds.nim_world import NimWorld\n",
    "from mcts import MCTS\n",
    "from actor_net import ActorNet\n",
    "import numpy as np"
   ]
  },
  {
   "cell_type": "code",
   "execution_count": 3,
   "metadata": {},
   "outputs": [],
   "source": [
    "world = NimWorld(K=4, N=10, current_pieces=10)\n",
    "state = world.state\n",
    "history = [state]"
   ]
  },
  {
   "cell_type": "code",
   "execution_count": 4,
   "metadata": {},
   "outputs": [
    {
     "name": "stderr",
     "output_type": "stream",
     "text": [
      "2022-03-17 18:54:45.818309: I tensorflow/core/platform/cpu_feature_guard.cc:151] This TensorFlow binary is optimized with oneAPI Deep Neural Network Library (oneDNN) to use the following CPU instructions in performance-critical operations:  AVX2 FMA\n",
      "To enable them in other operations, rebuild TensorFlow with the appropriate compiler flags.\n"
     ]
    }
   ],
   "source": [
    "anet = ActorNet(input_shape=10, output_dim=10)"
   ]
  },
  {
   "cell_type": "code",
   "execution_count": null,
   "metadata": {},
   "outputs": [],
   "source": []
  },
  {
   "cell_type": "code",
   "execution_count": 18,
   "metadata": {},
   "outputs": [],
   "source": [
    "wins = np.zeros(100)\n",
    "\n",
    "for i in range(100):\n",
    "    world = NimWorld(K=6, N=15, current_pieces=15)\n",
    "    tree = MCTS(anet, world=world)\n",
    "    player = -1\n",
    "    state = world.state\n",
    "    history = [state]\n",
    "    while not world.get_state().is_final_state:\n",
    "\n",
    "        tree.run_simulations()\n",
    "\n",
    "        \n",
    "        player = -player\n",
    "        action = tree.tree_policy(tree.root, apply_exploraty_bonus=False)\n",
    "\n",
    "        world.do_action(action)\n",
    "        tree.update_root(action)\n",
    "\n",
    "        history.append((action, world.state))\n",
    "    wins[i] = player\n",
    "        \n",
    "\n",
    "\n",
    "    \n"
   ]
  },
  {
   "cell_type": "code",
   "execution_count": 20,
   "metadata": {},
   "outputs": [
    {
     "data": {
      "text/plain": [
       "[NimState(is_final_state=False, pieces=15),\n",
       " (NimAction(pieces=2), NimState(is_final_state=False, pieces=13)),\n",
       " (NimAction(pieces=4), NimState(is_final_state=False, pieces=9)),\n",
       " (NimAction(pieces=2), NimState(is_final_state=False, pieces=7)),\n",
       " (NimAction(pieces=5), NimState(is_final_state=False, pieces=2)),\n",
       " (NimAction(pieces=2), NimState(is_final_state=True, pieces=0))]"
      ]
     },
     "execution_count": 20,
     "metadata": {},
     "output_type": "execute_result"
    }
   ],
   "source": [
    "history\n",
    "\n",
    "\n"
   ]
  },
  {
   "cell_type": "code",
   "execution_count": 19,
   "metadata": {},
   "outputs": [
    {
     "name": "stdout",
     "output_type": "stream",
     "text": [
      "player 1 won\n",
      "Player 1 won 10.0%\n"
     ]
    }
   ],
   "source": [
    "print(f\"player {player} won\")\n",
    "print(f\"Player 1 won {np.average(wins)*100}%\")"
   ]
  },
  {
   "cell_type": "code",
   "execution_count": 12,
   "metadata": {},
   "outputs": [],
   "source": [
    "# while not state.is_final_state:\n",
    "\n",
    "#     # a = random.choice(world.get_legal_actions())\n",
    "\n",
    "#     state = world.do_action(a)\n",
    "#     history.append(state)"
   ]
  }
 ],
 "metadata": {
  "interpreter": {
   "hash": "6cdaa56f2c6d00e26db56d5b38e6b72bc8bebfb9a50408d42f69785dfa696c20"
  },
  "kernelspec": {
   "display_name": "Python 3.9.7 ('tdt4195')",
   "language": "python",
   "name": "python3"
  },
  "language_info": {
   "codemirror_mode": {
    "name": "ipython",
    "version": 3
   },
   "file_extension": ".py",
   "mimetype": "text/x-python",
   "name": "python",
   "nbconvert_exporter": "python",
   "pygments_lexer": "ipython3",
   "version": "3.8.0"
  },
  "orig_nbformat": 4
 },
 "nbformat": 4,
 "nbformat_minor": 2
}
