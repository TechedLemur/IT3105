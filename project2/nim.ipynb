{
 "cells": [
  {
   "cell_type": "code",
   "execution_count": 1,
   "metadata": {},
   "outputs": [],
   "source": [
    "%load_ext autoreload\n",
    "%autoreload 2"
   ]
  },
  {
   "cell_type": "code",
   "execution_count": 4,
   "metadata": {},
   "outputs": [],
   "source": [
    "from gameworlds.nim_world import NimWorld\n",
    "import random"
   ]
  },
  {
   "cell_type": "code",
   "execution_count": 7,
   "metadata": {},
   "outputs": [],
   "source": [
    "world = NimWorld(K=4, N=15)\n",
    "state = world.state\n",
    "history = [state]"
   ]
  },
  {
   "cell_type": "code",
   "execution_count": 12,
   "metadata": {},
   "outputs": [],
   "source": [
    "while not state.is_final_state:\n",
    "\n",
    "    a = random.choice(world.get_legal_actions())\n",
    "\n",
    "    state = world.do_action(a)\n",
    "    history.append(state)"
   ]
  },
  {
   "cell_type": "code",
   "execution_count": 13,
   "metadata": {},
   "outputs": [
    {
     "data": {
      "text/plain": [
       "[NimState(is_final_state=False, pieces=15),\n",
       " NimState(is_final_state=False, pieces=12),\n",
       " NimState(is_final_state=False, pieces=11),\n",
       " NimState(is_final_state=False, pieces=8),\n",
       " NimState(is_final_state=False, pieces=7),\n",
       " NimState(is_final_state=False, pieces=5),\n",
       " NimState(is_final_state=False, pieces=3),\n",
       " NimState(is_final_state=False, pieces=1),\n",
       " NimState(is_final_state=True, pieces=0)]"
      ]
     },
     "execution_count": 13,
     "metadata": {},
     "output_type": "execute_result"
    }
   ],
   "source": [
    "history"
   ]
  }
 ],
 "metadata": {
  "interpreter": {
   "hash": "6cdaa56f2c6d00e26db56d5b38e6b72bc8bebfb9a50408d42f69785dfa696c20"
  },
  "kernelspec": {
   "display_name": "Python 3.9.7 ('tdt4195')",
   "language": "python",
   "name": "python3"
  },
  "language_info": {
   "codemirror_mode": {
    "name": "ipython",
    "version": 3
   },
   "file_extension": ".py",
   "mimetype": "text/x-python",
   "name": "python",
   "nbconvert_exporter": "python",
   "pygments_lexer": "ipython3",
   "version": "3.9.7"
  },
  "orig_nbformat": 4
 },
 "nbformat": 4,
 "nbformat_minor": 2
}
