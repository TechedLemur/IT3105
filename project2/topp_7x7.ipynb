{
 "cells": [
  {
   "cell_type": "code",
   "execution_count": 1,
   "metadata": {},
   "outputs": [
    {
     "name": "stdout",
     "output_type": "stream",
     "text": [
      "Config file:  5x5topp.json\n"
     ]
    }
   ],
   "source": [
    "from topp import Topp\n",
    "from actor_net import ActorNet"
   ]
  },
  {
   "cell_type": "code",
   "execution_count": 2,
   "metadata": {},
   "outputs": [],
   "source": [
    "p0 = ActorNet(\"./data/2022-03-29T09-31-16_5x5\")\n",
    "p1 = ActorNet(\"./data/2022-03-29T09-31-16_5x5\")\n",
    "p2 = ActorNet(\"./data/2022-03-29T09-31-16_5x5\")\n",
    "p3 = ActorNet(\"./data/2022-03-29T09-31-16_5x5\")\n",
    "p4 = ActorNet(\"./data/2022-03-29T09-31-16_5x5\")\n",
    "p5 = ActorNet(\"./data/2022-03-29T09-31-16_5x5\")\n",
    "p6 = ActorNet(\"./data/2022-03-29T09-31-16_5x5\")\n",
    "p7 = ActorNet(\"./data/2022-03-29T09-31-16_5x5\")\n",
    "p8 = ActorNet(\"./data/2022-03-29T09-31-16_5x5\")"
   ]
  },
  {
   "cell_type": "code",
   "execution_count": 3,
   "metadata": {},
   "outputs": [],
   "source": [
    "p0.load_params(0, \"5x5\")\n",
    "p0.name = \"0 episodes\"\n",
    "\n",
    "p1.load_params(25, \"5x5\")\n",
    "p1.name = \"25 episodes\"\n",
    "\n",
    "p2.load_params(50, \"5x5\")\n",
    "p2.name = \"50 episodes\"\n",
    "\n",
    "p3.load_params(75, \"5x5\")\n",
    "p3.name = \"75 episodes\"\n",
    "\n",
    "p4.load_params(100, \"5x5\")\n",
    "p4.name = \"100 episodes\"\n",
    "\n",
    "p5.load_params(125, \"5x5\")\n",
    "p5.name = \"125 episodes\"\n",
    "\n",
    "p6.load_params(150, \"5x5\")\n",
    "p6.name = \"150 episodes\"\n",
    "\n",
    "p7.load_params(175, \"5x5\")\n",
    "p7.name = \"175 episodes\"\n",
    "\n",
    "p8.load_params(199, \"5x5\")\n",
    "p8.name = \"200 episodes\""
   ]
  },
  {
   "cell_type": "code",
   "execution_count": 5,
   "metadata": {},
   "outputs": [
    {
     "name": "stdout",
     "output_type": "stream",
     "text": [
      "Results for 0 episodes:\n",
      "====================================================\n",
      "Won 7 / 50 agains 50 episodes\n",
      "Won 10 / 50 agains 75 episodes\n",
      "Won 7 / 50 agains 100 episodes\n",
      "Won 17 / 50 agains 125 episodes\n",
      "Won 10 / 50 agains 150 episodes\n",
      "Won 12 / 50 agains 175 episodes\n",
      "Won 9 / 50 agains 200 episodes\n",
      "====================================================\n",
      "\n",
      "Results for 50 episodes:\n",
      "====================================================\n",
      "Won 43 / 50 agains 0 episodes\n",
      "Won 9 / 50 agains 75 episodes\n",
      "Won 8 / 50 agains 100 episodes\n",
      "Won 11 / 50 agains 125 episodes\n",
      "Won 32 / 50 agains 150 episodes\n",
      "Won 26 / 50 agains 175 episodes\n",
      "Won 30 / 50 agains 200 episodes\n",
      "====================================================\n",
      "\n",
      "Results for 75 episodes:\n",
      "====================================================\n",
      "Won 40 / 50 agains 0 episodes\n",
      "Won 41 / 50 agains 50 episodes\n",
      "Won 15 / 50 agains 100 episodes\n",
      "Won 20 / 50 agains 125 episodes\n",
      "Won 27 / 50 agains 150 episodes\n",
      "Won 22 / 50 agains 175 episodes\n",
      "Won 22 / 50 agains 200 episodes\n",
      "====================================================\n",
      "\n",
      "Results for 100 episodes:\n",
      "====================================================\n",
      "Won 43 / 50 agains 0 episodes\n",
      "Won 42 / 50 agains 50 episodes\n",
      "Won 35 / 50 agains 75 episodes\n",
      "Won 26 / 50 agains 125 episodes\n",
      "Won 25 / 50 agains 150 episodes\n",
      "Won 25 / 50 agains 175 episodes\n",
      "Won 27 / 50 agains 200 episodes\n",
      "====================================================\n",
      "\n",
      "Results for 125 episodes:\n",
      "====================================================\n",
      "Won 33 / 50 agains 0 episodes\n",
      "Won 39 / 50 agains 50 episodes\n",
      "Won 30 / 50 agains 75 episodes\n",
      "Won 24 / 50 agains 100 episodes\n",
      "Won 26 / 50 agains 150 episodes\n",
      "Won 26 / 50 agains 175 episodes\n",
      "Won 26 / 50 agains 200 episodes\n",
      "====================================================\n",
      "\n",
      "Results for 150 episodes:\n",
      "====================================================\n",
      "Won 40 / 50 agains 0 episodes\n",
      "Won 18 / 50 agains 50 episodes\n",
      "Won 23 / 50 agains 75 episodes\n",
      "Won 25 / 50 agains 100 episodes\n",
      "Won 24 / 50 agains 125 episodes\n",
      "Won 26 / 50 agains 175 episodes\n",
      "Won 26 / 50 agains 200 episodes\n",
      "====================================================\n",
      "\n",
      "Results for 175 episodes:\n",
      "====================================================\n",
      "Won 38 / 50 agains 0 episodes\n",
      "Won 24 / 50 agains 50 episodes\n",
      "Won 28 / 50 agains 75 episodes\n",
      "Won 25 / 50 agains 100 episodes\n",
      "Won 24 / 50 agains 125 episodes\n",
      "Won 24 / 50 agains 150 episodes\n",
      "Won 27 / 50 agains 200 episodes\n",
      "====================================================\n",
      "\n",
      "Results for 200 episodes:\n",
      "====================================================\n",
      "Won 41 / 50 agains 0 episodes\n",
      "Won 20 / 50 agains 50 episodes\n",
      "Won 28 / 50 agains 75 episodes\n",
      "Won 23 / 50 agains 100 episodes\n",
      "Won 24 / 50 agains 125 episodes\n",
      "Won 24 / 50 agains 150 episodes\n",
      "Won 23 / 50 agains 175 episodes\n",
      "====================================================\n",
      "\n"
     ]
    }
   ],
   "source": [
    "Topp.play_topp([p0, p1,p2,p3,p4,p5,p6,p7,p8], no_games=50)"
   ]
  }
 ],
 "metadata": {
  "interpreter": {
   "hash": "6cdaa56f2c6d00e26db56d5b38e6b72bc8bebfb9a50408d42f69785dfa696c20"
  },
  "kernelspec": {
   "display_name": "Python 3.9.7 ('tdt4195')",
   "language": "python",
   "name": "python3"
  },
  "language_info": {
   "codemirror_mode": {
    "name": "ipython",
    "version": 3
   },
   "file_extension": ".py",
   "mimetype": "text/x-python",
   "name": "python",
   "nbconvert_exporter": "python",
   "pygments_lexer": "ipython3",
   "version": "3.9.7"
  },
  "orig_nbformat": 4
 },
 "nbformat": 4,
 "nbformat_minor": 2
}
