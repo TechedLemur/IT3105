{
 "cells": [
  {
   "cell_type": "code",
   "execution_count": 2,
   "metadata": {},
   "outputs": [],
   "source": [
    "%load_ext autoreload\n",
    "%autoreload 2"
   ]
  },
  {
   "cell_type": "code",
   "execution_count": 3,
   "metadata": {},
   "outputs": [
    {
     "name": "stdout",
     "output_type": "stream",
     "text": [
      "Config file:  demo.json\n"
     ]
    }
   ],
   "source": [
    "from rl import ReinforcementLearningAgent"
   ]
  },
  {
   "cell_type": "code",
   "execution_count": 4,
   "metadata": {},
   "outputs": [
    {
     "name": "stderr",
     "output_type": "stream",
     "text": [
      "2022-03-31 18:13:05.186201: I tensorflow/core/platform/cpu_feature_guard.cc:151] This TensorFlow binary is optimized with oneAPI Deep Neural Network Library (oneDNN) to use the following CPU instructions in performance-critical operations:  AVX2 FMA\n",
      "To enable them in other operations, rebuild TensorFlow with the appropriate compiler flags.\n"
     ]
    }
   ],
   "source": [
    "rla = ReinforcementLearningAgent(\"./data\")"
   ]
  },
  {
   "cell_type": "code",
   "execution_count": 6,
   "metadata": {},
   "outputs": [
    {
     "name": "stdout",
     "output_type": "stream",
     "text": [
      "Running 100 episodes with 300 search games, 4x4\n",
      "Episode 0\n",
      "20\n",
      "Saved network weights\n",
      "Saved data\n",
      "Running on single thread\n",
      "Game finished - used 4.531866990000026 seconds\n",
      "Episode 1\n",
      "20\n",
      "Running on single thread\n",
      "Game finished - used 3.5901764959999127 seconds\n",
      "2/2 [==============================] - 0s 2ms/step - loss: 1.8289 - accuracy: 0.4500\n",
      "Episode 2\n",
      "20\n",
      "Running on single thread\n",
      "Game finished - used 4.547931557000084 seconds\n",
      "3/3 [==============================] - 0s 2ms/step - loss: 1.6687 - accuracy: 0.5147\n",
      "Episode 3\n",
      "20\n",
      "Running on single thread\n",
      "Game finished - used 3.4639542470001743 seconds\n",
      "3/3 [==============================] - 0s 2ms/step - loss: 1.6154 - accuracy: 0.5114\n",
      "Episode 4\n",
      "20\n",
      "Running on single thread\n",
      "Game finished - used 4.61239907900017 seconds\n",
      "4/4 [==============================] - 0s 2ms/step - loss: 1.6553 - accuracy: 0.4722\n",
      "Episode 5\n",
      "20\n",
      "Running on single thread\n",
      "Game finished - used 4.932746030000089 seconds\n",
      "5/5 [==============================] - 0s 1ms/step - loss: 1.7439 - accuracy: 0.4167\n",
      "Episode 6\n",
      "20\n",
      "Running on single thread\n",
      "Game finished - used 4.718856426000002 seconds\n",
      "6/6 [==============================] - 0s 1ms/step - loss: 1.6973 - accuracy: 0.4056\n",
      "Episode 7\n",
      "20\n",
      "Running on single thread\n",
      "Game finished - used 4.793436958000029 seconds\n",
      "7/7 [==============================] - 0s 2ms/step - loss: 1.6699 - accuracy: 0.4250\n",
      "Episode 8\n",
      "20\n",
      "Running on single thread\n",
      "Game finished - used 5.79533589499988 seconds\n",
      "8/8 [==============================] - 0s 1ms/step - loss: 1.6692 - accuracy: 0.4123\n",
      "Episode 9\n",
      "20\n",
      "Running on single thread\n",
      "Game finished - used 4.433236328000021 seconds\n",
      "8/8 [==============================] - 0s 9ms/step - loss: 1.6632 - accuracy: 0.4032\n",
      "Episode 10\n",
      "20\n",
      "Running on single thread\n",
      "Game finished - used 8.232384292999996 seconds\n",
      "9/9 [==============================] - 0s 2ms/step - loss: 1.6390 - accuracy: 0.4022\n",
      "Episode 11\n",
      "20\n",
      "Running on single thread\n",
      "Game finished - used 4.179473580999911 seconds\n",
      "10/10 [==============================] - 0s 1ms/step - loss: 1.6810 - accuracy: 0.3816\n",
      "Episode 12\n",
      "20\n",
      "Running on single thread\n",
      "Game finished - used 3.2628059040000608 seconds\n",
      "11/11 [==============================] - 0s 1ms/step - loss: 1.6636 - accuracy: 0.3735\n",
      "Episode 13\n",
      "20\n",
      "Running on single thread\n",
      "Game finished - used 3.2741838530000678 seconds\n",
      "11/11 [==============================] - 0s 1ms/step - loss: 1.6638 - accuracy: 0.3866\n",
      "Episode 14\n",
      "20\n",
      "Running on single thread\n",
      "Game finished - used 3.136804509000058 seconds\n",
      "12/12 [==============================] - 0s 1ms/step - loss: 1.6619 - accuracy: 0.3886\n",
      "Episode 15\n",
      "20\n",
      "Running on single thread\n",
      "Game finished - used 3.7994318690000455 seconds\n",
      "13/13 [==============================] - 0s 1ms/step - loss: 1.6712 - accuracy: 0.3789\n",
      "Episode 16\n",
      "20\n",
      "Running on single thread\n",
      "Game finished - used 4.4387058089998845 seconds\n",
      "14/14 [==============================] - 0s 1ms/step - loss: 1.6741 - accuracy: 0.3585\n",
      "Episode 17\n",
      "20\n",
      "Running on single thread\n",
      "Game finished - used 3.6981649269998798 seconds\n",
      "14/14 [==============================] - 0s 1ms/step - loss: 1.6607 - accuracy: 0.3986\n",
      "Episode 18\n",
      "20\n",
      "Running on single thread\n",
      "Game finished - used 3.140880488999983 seconds\n",
      "15/15 [==============================] - 0s 1ms/step - loss: 1.6537 - accuracy: 0.3685\n",
      "Episode 19\n",
      "20\n",
      "Running on single thread\n",
      "Game finished - used 3.4732384000001275 seconds\n",
      "16/16 [==============================] - 0s 1ms/step - loss: 1.6549 - accuracy: 0.3719\n",
      "Episode 20\n",
      "20\n",
      "Saved network weights\n",
      "Saved data\n",
      "Running on single thread\n",
      "Game finished - used 6.384011952000037 seconds\n",
      "16/16 [==============================] - 0s 984us/step - loss: 1.6613 - accuracy: 0.3980\n",
      "Episode 21\n",
      "20\n",
      "Running on single thread\n",
      "Game finished - used 5.258448207000129 seconds\n",
      "16/16 [==============================] - 0s 1ms/step - loss: 1.6569 - accuracy: 0.3940\n",
      "Episode 22\n",
      "20\n",
      "Running on single thread\n",
      "Game finished - used 3.6269699590000073 seconds\n",
      "16/16 [==============================] - 0s 1ms/step - loss: 1.6836 - accuracy: 0.3840\n",
      "Episode 23\n",
      "20\n",
      "Running on single thread\n",
      "Game finished - used 3.718537627999922 seconds\n",
      "16/16 [==============================] - 0s 1ms/step - loss: 1.7007 - accuracy: 0.3640\n",
      "Episode 24\n",
      "20\n",
      "Running on single thread\n",
      "Game finished - used 3.6208304469998893 seconds\n",
      "16/16 [==============================] - 0s 1ms/step - loss: 1.6673 - accuracy: 0.3820\n",
      "Episode 25\n",
      "20\n",
      "Running on single thread\n",
      "Game finished - used 3.42428385900007 seconds\n",
      "16/16 [==============================] - 0s 1ms/step - loss: 1.6606 - accuracy: 0.4020\n",
      "Episode 26\n",
      "20\n",
      "Running on single thread\n"
     ]
    },
    {
     "ename": "KeyboardInterrupt",
     "evalue": "",
     "output_type": "error",
     "traceback": [
      "\u001b[0;31m---------------------------------------------------------------------------\u001b[0m",
      "\u001b[0;31mKeyboardInterrupt\u001b[0m                         Traceback (most recent call last)",
      "\u001b[0;32m/var/folders/w2/4g3c4yrn38g2nwwdhjdlx6fc0000gn/T/ipykernel_34668/1250179707.py\u001b[0m in \u001b[0;36m<module>\u001b[0;34m\u001b[0m\n\u001b[0;32m----> 1\u001b[0;31m \u001b[0mrla\u001b[0m\u001b[0;34m.\u001b[0m\u001b[0mtrain\u001b[0m\u001b[0;34m(\u001b[0m\u001b[0mfile_suffix\u001b[0m\u001b[0;34m=\u001b[0m\u001b[0;34m\"4x4\"\u001b[0m\u001b[0;34m,\u001b[0m \u001b[0mn_parallel\u001b[0m\u001b[0;34m=\u001b[0m\u001b[0;36m1\u001b[0m\u001b[0;34m)\u001b[0m\u001b[0;34m\u001b[0m\u001b[0;34m\u001b[0m\u001b[0m\n\u001b[0m",
      "\u001b[0;32m~/Code/School/IT3105/project2/rl.py\u001b[0m in \u001b[0;36mtrain\u001b[0;34m(self, file_suffix, n_parallel, train_net, train_interval)\u001b[0m\n\u001b[1;32m    180\u001b[0m                 \u001b[0mprint\u001b[0m\u001b[0;34m(\u001b[0m\u001b[0;34m\"Running on single thread\"\u001b[0m\u001b[0;34m)\u001b[0m\u001b[0;34m\u001b[0m\u001b[0;34m\u001b[0m\u001b[0m\n\u001b[1;32m    181\u001b[0m                 \u001b[0mparams\u001b[0m \u001b[0;34m=\u001b[0m \u001b[0;34m(\u001b[0m\u001b[0;32mNone\u001b[0m\u001b[0;34m,\u001b[0m \u001b[0mstarting_player\u001b[0m\u001b[0;34m,\u001b[0m \u001b[0mrollout_chance\u001b[0m\u001b[0;34m,\u001b[0m \u001b[0;32mNone\u001b[0m\u001b[0;34m)\u001b[0m\u001b[0;34m\u001b[0m\u001b[0;34m\u001b[0m\u001b[0m\n\u001b[0;32m--> 182\u001b[0;31m                 \u001b[0mresult\u001b[0m \u001b[0;34m=\u001b[0m \u001b[0;34m[\u001b[0m\u001b[0mself\u001b[0m\u001b[0;34m.\u001b[0m\u001b[0mepisode\u001b[0m\u001b[0;34m(\u001b[0m\u001b[0mparams\u001b[0m\u001b[0;34m,\u001b[0m \u001b[0mself\u001b[0m\u001b[0;34m.\u001b[0m\u001b[0manet\u001b[0m\u001b[0;34m)\u001b[0m\u001b[0;34m]\u001b[0m\u001b[0;34m\u001b[0m\u001b[0;34m\u001b[0m\u001b[0m\n\u001b[0m\u001b[1;32m    183\u001b[0m \u001b[0;34m\u001b[0m\u001b[0m\n\u001b[1;32m    184\u001b[0m             \u001b[0;32mfor\u001b[0m \u001b[0mr\u001b[0m \u001b[0;32min\u001b[0m \u001b[0mresult\u001b[0m\u001b[0;34m:\u001b[0m\u001b[0;34m\u001b[0m\u001b[0;34m\u001b[0m\u001b[0m\n",
      "\u001b[0;32m~/Code/School/IT3105/project2/rl.py\u001b[0m in \u001b[0;36mepisode\u001b[0;34m(params, anet)\u001b[0m\n\u001b[1;32m     45\u001b[0m         \u001b[0;32mwhile\u001b[0m \u001b[0;32mnot\u001b[0m \u001b[0mworld\u001b[0m\u001b[0;34m.\u001b[0m\u001b[0mis_final_state\u001b[0m\u001b[0;34m:\u001b[0m\u001b[0;34m\u001b[0m\u001b[0;34m\u001b[0m\u001b[0m\n\u001b[1;32m     46\u001b[0m             \u001b[0;31m# print(f\"Move {move}:\")\u001b[0m\u001b[0;34m\u001b[0m\u001b[0;34m\u001b[0m\u001b[0;34m\u001b[0m\u001b[0m\n\u001b[0;32m---> 47\u001b[0;31m             \u001b[0mmcts\u001b[0m\u001b[0;34m.\u001b[0m\u001b[0mrun_simulations\u001b[0m\u001b[0;34m(\u001b[0m\u001b[0mrollout_chance\u001b[0m\u001b[0;34m)\u001b[0m\u001b[0;34m\u001b[0m\u001b[0;34m\u001b[0m\u001b[0m\n\u001b[0m\u001b[1;32m     48\u001b[0m \u001b[0;34m\u001b[0m\u001b[0m\n\u001b[1;32m     49\u001b[0m             \u001b[0;32mif\u001b[0m \u001b[0mmove\u001b[0m \u001b[0;34m==\u001b[0m \u001b[0;36m1\u001b[0m\u001b[0;34m:\u001b[0m\u001b[0;34m\u001b[0m\u001b[0;34m\u001b[0m\u001b[0m\n",
      "\u001b[0;32m~/Code/School/IT3105/project2/mcts.py\u001b[0m in \u001b[0;36mrun_simulations\u001b[0;34m(self, rollout_chance, time_out)\u001b[0m\n\u001b[1;32m    101\u001b[0m             \u001b[0mself\u001b[0m\u001b[0;34m.\u001b[0m\u001b[0mcurrent_world\u001b[0m \u001b[0;34m=\u001b[0m \u001b[0mself\u001b[0m\u001b[0;34m.\u001b[0m\u001b[0mroot\u001b[0m\u001b[0;34m.\u001b[0m\u001b[0mstate\u001b[0m\u001b[0;34m.\u001b[0m\u001b[0mcopy\u001b[0m\u001b[0;34m(\u001b[0m\u001b[0;34m)\u001b[0m\u001b[0;34m\u001b[0m\u001b[0;34m\u001b[0m\u001b[0m\n\u001b[1;32m    102\u001b[0m             \u001b[0mself\u001b[0m\u001b[0;34m.\u001b[0m\u001b[0miteration\u001b[0m \u001b[0;34m=\u001b[0m \u001b[0mi\u001b[0m\u001b[0;34m\u001b[0m\u001b[0;34m\u001b[0m\u001b[0m\n\u001b[0;32m--> 103\u001b[0;31m             \u001b[0mleaf_node\u001b[0m \u001b[0;34m=\u001b[0m \u001b[0mself\u001b[0m\u001b[0;34m.\u001b[0m\u001b[0mapply_tree_policy\u001b[0m\u001b[0;34m(\u001b[0m\u001b[0;34m)\u001b[0m\u001b[0;34m\u001b[0m\u001b[0;34m\u001b[0m\u001b[0m\n\u001b[0m\u001b[1;32m    104\u001b[0m \u001b[0;34m\u001b[0m\u001b[0m\n\u001b[1;32m    105\u001b[0m             \u001b[0;32mif\u001b[0m \u001b[0mrandom\u001b[0m\u001b[0;34m.\u001b[0m\u001b[0mrandom\u001b[0m\u001b[0;34m(\u001b[0m\u001b[0;34m)\u001b[0m \u001b[0;34m<\u001b[0m \u001b[0mrollout_chance\u001b[0m\u001b[0;34m:\u001b[0m\u001b[0;34m\u001b[0m\u001b[0;34m\u001b[0m\u001b[0m\n",
      "\u001b[0;32m~/Code/School/IT3105/project2/mcts.py\u001b[0m in \u001b[0;36mapply_tree_policy\u001b[0;34m(self)\u001b[0m\n\u001b[1;32m    276\u001b[0m                 \u001b[0mis_leaf_node\u001b[0m \u001b[0;34m=\u001b[0m \u001b[0;32mTrue\u001b[0m\u001b[0;34m\u001b[0m\u001b[0;34m\u001b[0m\u001b[0m\n\u001b[1;32m    277\u001b[0m                 \u001b[0;32mbreak\u001b[0m\u001b[0;34m\u001b[0m\u001b[0;34m\u001b[0m\u001b[0m\n\u001b[0;32m--> 278\u001b[0;31m             \u001b[0mbest_action\u001b[0m \u001b[0;34m=\u001b[0m \u001b[0mself\u001b[0m\u001b[0;34m.\u001b[0m\u001b[0mtree_policy\u001b[0m\u001b[0;34m(\u001b[0m\u001b[0mcurrent_node\u001b[0m\u001b[0;34m)\u001b[0m\u001b[0;34m\u001b[0m\u001b[0;34m\u001b[0m\u001b[0m\n\u001b[0m\u001b[1;32m    279\u001b[0m             \u001b[0mself\u001b[0m\u001b[0;34m.\u001b[0m\u001b[0mcurrent_world\u001b[0m \u001b[0;34m=\u001b[0m \u001b[0mself\u001b[0m\u001b[0;34m.\u001b[0m\u001b[0mcurrent_world\u001b[0m\u001b[0;34m.\u001b[0m\u001b[0mdo_action\u001b[0m\u001b[0;34m(\u001b[0m\u001b[0mbest_action\u001b[0m\u001b[0;34m)\u001b[0m\u001b[0;34m\u001b[0m\u001b[0;34m\u001b[0m\u001b[0m\n\u001b[1;32m    280\u001b[0m             \u001b[0mself\u001b[0m\u001b[0;34m.\u001b[0m\u001b[0mvisited\u001b[0m\u001b[0;34m.\u001b[0m\u001b[0mappend\u001b[0m\u001b[0;34m(\u001b[0m\u001b[0;34m(\u001b[0m\u001b[0mcurrent_node\u001b[0m\u001b[0;34m,\u001b[0m \u001b[0mbest_action\u001b[0m\u001b[0;34m)\u001b[0m\u001b[0;34m)\u001b[0m\u001b[0;34m\u001b[0m\u001b[0;34m\u001b[0m\u001b[0m\n",
      "\u001b[0;32m~/Code/School/IT3105/project2/mcts.py\u001b[0m in \u001b[0;36mtree_policy\u001b[0;34m(self, node, apply_exploraty_bonus)\u001b[0m\n\u001b[1;32m    233\u001b[0m         \"\"\"\n\u001b[1;32m    234\u001b[0m \u001b[0;34m\u001b[0m\u001b[0m\n\u001b[0;32m--> 235\u001b[0;31m         \u001b[0mN_s_a\u001b[0m \u001b[0;34m=\u001b[0m \u001b[0mnp\u001b[0m\u001b[0;34m.\u001b[0m\u001b[0marray\u001b[0m\u001b[0;34m(\u001b[0m\u001b[0;34m[\u001b[0m\u001b[0mself\u001b[0m\u001b[0;34m.\u001b[0m\u001b[0mN_s_a\u001b[0m\u001b[0;34m[\u001b[0m\u001b[0;34m(\u001b[0m\u001b[0mnode\u001b[0m\u001b[0;34m,\u001b[0m \u001b[0ma\u001b[0m\u001b[0;34m)\u001b[0m\u001b[0;34m]\u001b[0m \u001b[0;32mfor\u001b[0m \u001b[0ma\u001b[0m \u001b[0;32min\u001b[0m \u001b[0mnode\u001b[0m\u001b[0;34m.\u001b[0m\u001b[0mchildren\u001b[0m\u001b[0;34m.\u001b[0m\u001b[0mkeys\u001b[0m\u001b[0;34m(\u001b[0m\u001b[0;34m)\u001b[0m\u001b[0;34m]\u001b[0m\u001b[0;34m)\u001b[0m\u001b[0;34m\u001b[0m\u001b[0;34m\u001b[0m\u001b[0m\n\u001b[0m\u001b[1;32m    236\u001b[0m         \u001b[0mQ_s_a\u001b[0m \u001b[0;34m=\u001b[0m \u001b[0mnp\u001b[0m\u001b[0;34m.\u001b[0m\u001b[0marray\u001b[0m\u001b[0;34m(\u001b[0m\u001b[0;34m[\u001b[0m\u001b[0mself\u001b[0m\u001b[0;34m.\u001b[0m\u001b[0mQ\u001b[0m\u001b[0;34m[\u001b[0m\u001b[0;34m(\u001b[0m\u001b[0mnode\u001b[0m\u001b[0;34m,\u001b[0m \u001b[0ma\u001b[0m\u001b[0;34m)\u001b[0m\u001b[0;34m]\u001b[0m \u001b[0;32mfor\u001b[0m \u001b[0ma\u001b[0m \u001b[0;32min\u001b[0m \u001b[0mnode\u001b[0m\u001b[0;34m.\u001b[0m\u001b[0mchildren\u001b[0m\u001b[0;34m.\u001b[0m\u001b[0mkeys\u001b[0m\u001b[0;34m(\u001b[0m\u001b[0;34m)\u001b[0m\u001b[0;34m]\u001b[0m\u001b[0;34m)\u001b[0m\u001b[0;34m\u001b[0m\u001b[0;34m\u001b[0m\u001b[0m\n\u001b[1;32m    237\u001b[0m \u001b[0;34m\u001b[0m\u001b[0m\n",
      "\u001b[0;32m~/Code/School/IT3105/project2/mcts.py\u001b[0m in \u001b[0;36m<listcomp>\u001b[0;34m(.0)\u001b[0m\n\u001b[1;32m    233\u001b[0m         \"\"\"\n\u001b[1;32m    234\u001b[0m \u001b[0;34m\u001b[0m\u001b[0m\n\u001b[0;32m--> 235\u001b[0;31m         \u001b[0mN_s_a\u001b[0m \u001b[0;34m=\u001b[0m \u001b[0mnp\u001b[0m\u001b[0;34m.\u001b[0m\u001b[0marray\u001b[0m\u001b[0;34m(\u001b[0m\u001b[0;34m[\u001b[0m\u001b[0mself\u001b[0m\u001b[0;34m.\u001b[0m\u001b[0mN_s_a\u001b[0m\u001b[0;34m[\u001b[0m\u001b[0;34m(\u001b[0m\u001b[0mnode\u001b[0m\u001b[0;34m,\u001b[0m \u001b[0ma\u001b[0m\u001b[0;34m)\u001b[0m\u001b[0;34m]\u001b[0m \u001b[0;32mfor\u001b[0m \u001b[0ma\u001b[0m \u001b[0;32min\u001b[0m \u001b[0mnode\u001b[0m\u001b[0;34m.\u001b[0m\u001b[0mchildren\u001b[0m\u001b[0;34m.\u001b[0m\u001b[0mkeys\u001b[0m\u001b[0;34m(\u001b[0m\u001b[0;34m)\u001b[0m\u001b[0;34m]\u001b[0m\u001b[0;34m)\u001b[0m\u001b[0;34m\u001b[0m\u001b[0;34m\u001b[0m\u001b[0m\n\u001b[0m\u001b[1;32m    236\u001b[0m         \u001b[0mQ_s_a\u001b[0m \u001b[0;34m=\u001b[0m \u001b[0mnp\u001b[0m\u001b[0;34m.\u001b[0m\u001b[0marray\u001b[0m\u001b[0;34m(\u001b[0m\u001b[0;34m[\u001b[0m\u001b[0mself\u001b[0m\u001b[0;34m.\u001b[0m\u001b[0mQ\u001b[0m\u001b[0;34m[\u001b[0m\u001b[0;34m(\u001b[0m\u001b[0mnode\u001b[0m\u001b[0;34m,\u001b[0m \u001b[0ma\u001b[0m\u001b[0;34m)\u001b[0m\u001b[0;34m]\u001b[0m \u001b[0;32mfor\u001b[0m \u001b[0ma\u001b[0m \u001b[0;32min\u001b[0m \u001b[0mnode\u001b[0m\u001b[0;34m.\u001b[0m\u001b[0mchildren\u001b[0m\u001b[0;34m.\u001b[0m\u001b[0mkeys\u001b[0m\u001b[0;34m(\u001b[0m\u001b[0;34m)\u001b[0m\u001b[0;34m]\u001b[0m\u001b[0;34m)\u001b[0m\u001b[0;34m\u001b[0m\u001b[0;34m\u001b[0m\u001b[0m\n\u001b[1;32m    237\u001b[0m \u001b[0;34m\u001b[0m\u001b[0m\n",
      "\u001b[0;32m/usr/local/anaconda3/envs/tensorflow/lib/python3.8/dataclasses.py\u001b[0m in \u001b[0;36m__eq__\u001b[0;34m(self, other)\u001b[0m\n",
      "\u001b[0;31mKeyboardInterrupt\u001b[0m: "
     ]
    }
   ],
   "source": [
    "rla.train(file_suffix=\"4x4\", n_parallel=1)"
   ]
  }
 ],
 "metadata": {
  "interpreter": {
   "hash": "49ff9a1d55cbad36b515c3ded8837e12145fab330794be4b4ac6e95d3772d975"
  },
  "kernelspec": {
   "display_name": "Python 3.8.0 ('tensorflow')",
   "language": "python",
   "name": "python3"
  },
  "language_info": {
   "codemirror_mode": {
    "name": "ipython",
    "version": 3
   },
   "file_extension": ".py",
   "mimetype": "text/x-python",
   "name": "python",
   "nbconvert_exporter": "python",
   "pygments_lexer": "ipython3",
   "version": "3.8.0"
  },
  "orig_nbformat": 4
 },
 "nbformat": 4,
 "nbformat_minor": 2
}
