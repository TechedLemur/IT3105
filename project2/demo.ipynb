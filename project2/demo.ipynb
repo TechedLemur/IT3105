{
 "cells": [
  {
   "cell_type": "code",
   "execution_count": null,
   "metadata": {},
   "outputs": [],
   "source": [
    "%load_ext autoreload\n",
    "%autoreload 2"
   ]
  },
  {
   "cell_type": "code",
   "execution_count": null,
   "metadata": {},
   "outputs": [],
   "source": [
    "from rl import ReinforcementLearningAgent\n",
    "from topp import Topp\n",
    "from actor_net import ActorNet"
   ]
  },
  {
   "cell_type": "code",
   "execution_count": null,
   "metadata": {},
   "outputs": [],
   "source": [
    "rla = ReinforcementLearningAgent(\"./data\")"
   ]
  },
  {
   "cell_type": "code",
   "execution_count": null,
   "metadata": {},
   "outputs": [],
   "source": [
    "rla.train(file_suffix=\"4x4\", n_parallel=1, visualize=True)"
   ]
  },
  {
   "cell_type": "code",
   "execution_count": null,
   "metadata": {},
   "outputs": [],
   "source": [
    "P0 = ActorNet(weight_path=\"data\\models\\model04x4\")\n",
    "P1 = ActorNet(weight_path=\"data\\models\\model24x4\")\n",
    "P2 = ActorNet(weight_path=\"data\\models\\model44x4\")\n",
    "P3 = ActorNet(weight_path=\"data\\models\\model64x4\")\n",
    "P4 = ActorNet(weight_path=\"data\\models\\model84x4\")\n",
    "P5 = ActorNet(weight_path=\"data\\models\\model94x4\")\n",
    "\n",
    "P0.name = \"P0\"\n",
    "P1.name = \"P1\"\n",
    "P2.name = \"P2\"\n",
    "P3.name = \"P3\"\n",
    "P4.name = \"P4\"\n",
    "P5.name = \"P5\"\n",
    "agents = [P0, P1, P2, P3, P4, P5]"
   ]
  },
  {
   "cell_type": "code",
   "execution_count": null,
   "metadata": {},
   "outputs": [],
   "source": [
    "Topp.play_topp(agents, no_games=50, visualize=False)"
   ]
  }
 ],
 "metadata": {
  "interpreter": {
   "hash": "49ff9a1d55cbad36b515c3ded8837e12145fab330794be4b4ac6e95d3772d975"
  },
  "kernelspec": {
   "display_name": "Python 3.8.0 ('tensorflow')",
   "language": "python",
   "name": "python3"
  },
  "language_info": {
   "codemirror_mode": {
    "name": "ipython",
    "version": 3
   },
   "file_extension": ".py",
   "mimetype": "text/x-python",
   "name": "python",
   "nbconvert_exporter": "python",
   "pygments_lexer": "ipython3",
   "version": "3.9.7"
  },
  "orig_nbformat": 4
 },
 "nbformat": 4,
 "nbformat_minor": 2
}
