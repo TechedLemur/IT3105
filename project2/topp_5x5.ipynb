{
 "cells": [
  {
   "cell_type": "code",
   "execution_count": 1,
   "metadata": {},
   "outputs": [
    {
     "name": "stdout",
     "output_type": "stream",
     "text": [
      "Config file:  demo.json\n"
     ]
    }
   ],
   "source": [
    "from topp import Topp\n",
    "from actor_net import ActorNet"
   ]
  },
  {
   "cell_type": "code",
   "execution_count": 2,
   "metadata": {},
   "outputs": [
    {
     "name": "stdout",
     "output_type": "stream",
     "text": [
      "Loaded weights from ./400ep5x5/models/model05x5\n",
      "Loaded weights from ./400ep5x5/models/model85x5\n",
      "Loaded weights from ./400ep5x5/models/model165x5\n",
      "Loaded weights from ./400ep5x5/models/model245x5\n",
      "Loaded weights from ./400ep5x5/models/model325x5\n",
      "Loaded weights from ./400ep5x5/models/model395x5\n"
     ]
    }
   ],
   "source": [
    "p0 = ActorNet(weight_path=\"./400ep5x5/models/model05x5\")\n",
    "p1 = ActorNet(weight_path=\"./400ep5x5/models/model85x5\")\n",
    "p2 = ActorNet(weight_path=\"./400ep5x5/models/model165x5\")\n",
    "p3 = ActorNet(weight_path=\"./400ep5x5/models/model245x5\")\n",
    "p4 = ActorNet(weight_path=\"./400ep5x5/models/model325x5\")\n",
    "p5 = ActorNet(weight_path=\"./400ep5x5/models/model395x5\")\n",
    "\n",
    "p0.name = \"0 episodes\"\n",
    "p1.name = \"80 episodes\"\n",
    "p2.name = \"160 episodes\"\n",
    "p3.name = \"240 episodes\"\n",
    "p4.name = \"320 episodes\"\n",
    "p5.name = \"400 episodes\"\n",
    "agents = [p0,p1, p2,p3,p4, p5]\n",
    "\n"
   ]
  },
  {
   "cell_type": "code",
   "execution_count": 3,
   "metadata": {},
   "outputs": [
    {
     "name": "stdout",
     "output_type": "stream",
     "text": [
      "Results for 0 episodes:\n",
      "================================================================\n",
      "Won 11 / 50 agains 80 episodes. As starting 4 / 25, as second 7 / 25\n",
      "Won 1 / 50 agains 160 episodes. As starting 1 / 25, as second 0 / 25\n",
      "Won 1 / 50 agains 240 episodes. As starting 1 / 25, as second 0 / 25\n",
      "Won 0 / 50 agains 320 episodes. As starting 0 / 25, as second 0 / 25\n",
      "Won 0 / 50 agains 400 episodes. As starting 0 / 25, as second 0 / 25\n",
      "================================================================\n",
      "\n",
      "Results for 80 episodes:\n",
      "================================================================\n",
      "Won 39 / 50 agains 0 episodes. As starting 21 / 25, as second 18 / 25\n",
      "Won 7 / 50 agains 160 episodes. As starting 6 / 25, as second 1 / 25\n",
      "Won 1 / 50 agains 240 episodes. As starting 1 / 25, as second 0 / 25\n",
      "Won 2 / 50 agains 320 episodes. As starting 2 / 25, as second 0 / 25\n",
      "Won 2 / 50 agains 400 episodes. As starting 2 / 25, as second 0 / 25\n",
      "================================================================\n",
      "\n",
      "Results for 160 episodes:\n",
      "================================================================\n",
      "Won 49 / 50 agains 0 episodes. As starting 24 / 25, as second 25 / 25\n",
      "Won 43 / 50 agains 80 episodes. As starting 19 / 25, as second 24 / 25\n",
      "Won 14 / 50 agains 240 episodes. As starting 11 / 25, as second 3 / 25\n",
      "Won 7 / 50 agains 320 episodes. As starting 6 / 25, as second 1 / 25\n",
      "Won 8 / 50 agains 400 episodes. As starting 7 / 25, as second 1 / 25\n",
      "================================================================\n",
      "\n",
      "Results for 240 episodes:\n",
      "================================================================\n",
      "Won 49 / 50 agains 0 episodes. As starting 24 / 25, as second 25 / 25\n",
      "Won 49 / 50 agains 80 episodes. As starting 24 / 25, as second 25 / 25\n",
      "Won 36 / 50 agains 160 episodes. As starting 14 / 25, as second 22 / 25\n",
      "Won 19 / 50 agains 320 episodes. As starting 15 / 25, as second 4 / 25\n",
      "Won 12 / 50 agains 400 episodes. As starting 11 / 25, as second 1 / 25\n",
      "================================================================\n",
      "\n",
      "Results for 320 episodes:\n",
      "================================================================\n",
      "Won 50 / 50 agains 0 episodes. As starting 25 / 25, as second 25 / 25\n",
      "Won 48 / 50 agains 80 episodes. As starting 23 / 25, as second 25 / 25\n",
      "Won 43 / 50 agains 160 episodes. As starting 19 / 25, as second 24 / 25\n",
      "Won 31 / 50 agains 240 episodes. As starting 10 / 25, as second 21 / 25\n",
      "Won 15 / 50 agains 400 episodes. As starting 13 / 25, as second 2 / 25\n",
      "================================================================\n",
      "\n",
      "Results for 400 episodes:\n",
      "================================================================\n",
      "Won 50 / 50 agains 0 episodes. As starting 25 / 25, as second 25 / 25\n",
      "Won 48 / 50 agains 80 episodes. As starting 23 / 25, as second 25 / 25\n",
      "Won 42 / 50 agains 160 episodes. As starting 18 / 25, as second 24 / 25\n",
      "Won 38 / 50 agains 240 episodes. As starting 14 / 25, as second 24 / 25\n",
      "Won 35 / 50 agains 320 episodes. As starting 12 / 25, as second 23 / 25\n",
      "================================================================\n",
      "\n"
     ]
    }
   ],
   "source": [
    "Topp.play_topp([p0,p1, p2,p3,p4, p5], no_games=50)"
   ]
  }
 ],
 "metadata": {
  "interpreter": {
   "hash": "6cdaa56f2c6d00e26db56d5b38e6b72bc8bebfb9a50408d42f69785dfa696c20"
  },
  "kernelspec": {
   "display_name": "Python 3.9.7 ('tdt4195')",
   "language": "python",
   "name": "python3"
  },
  "language_info": {
   "codemirror_mode": {
    "name": "ipython",
    "version": 3
   },
   "file_extension": ".py",
   "mimetype": "text/x-python",
   "name": "python",
   "nbconvert_exporter": "python",
   "pygments_lexer": "ipython3",
   "version": "3.9.7"
  },
  "orig_nbformat": 4
 },
 "nbformat": 4,
 "nbformat_minor": 2
}
