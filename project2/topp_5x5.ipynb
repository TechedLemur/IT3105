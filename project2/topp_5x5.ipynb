{
 "cells": [
  {
   "cell_type": "code",
   "execution_count": 1,
   "metadata": {},
   "outputs": [
    {
     "name": "stdout",
     "output_type": "stream",
     "text": [
      "Config file:  demo.json\n"
     ]
    }
   ],
   "source": [
    "from topp import Topp\n",
    "from actor_net import ActorNet"
   ]
  },
  {
   "cell_type": "code",
   "execution_count": 2,
   "metadata": {},
   "outputs": [],
   "source": [
    "p0 = ActorNet(\"./data/2022-04-02T21-27-19_5x5\")\n",
    "p1 = ActorNet(\"./data/2022-04-02T21-27-19_5x5\")\n",
    "p2 = ActorNet(\"./data/2022-04-02T21-27-19_5x5\")\n",
    "p3 = ActorNet(\"./data/2022-04-02T21-27-19_5x5\")\n",
    "p4 = ActorNet(\"./data/2022-04-02T21-27-19_5x5\")\n",
    "p5 = ActorNet(\"./data/2022-04-02T21-27-19_5x5\")"
   ]
  },
  {
   "cell_type": "code",
   "execution_count": 3,
   "metadata": {},
   "outputs": [],
   "source": [
    "p0.load_params(0, \"5x5\")\n",
    "p0.name = \"0 episodes\"\n",
    "\n",
    "p1.load_params(8, \"5x5\")\n",
    "p1.name = \"80 episodes\"\n",
    "\n",
    "p2.load_params(16, \"5x5\")\n",
    "p2.name = \"160 episodes\"\n",
    "\n",
    "p3.load_params(24, \"5x5\")\n",
    "p3.name = \"240 episodes\"\n",
    "\n",
    "p4.load_params(32, \"5x5\")\n",
    "p4.name = \"320episodes\"\n",
    "\n",
    "p5.load_params(39, \"5x5\")\n",
    "p5.name = \"400 episodes\"\n",
    "\n"
   ]
  },
  {
   "cell_type": "code",
   "execution_count": 5,
   "metadata": {},
   "outputs": [
    {
     "name": "stdout",
     "output_type": "stream",
     "text": [
      "Results for 0 episodes:\n",
      "================================================================\n",
      "Won 12 / 50 agains 40 episodes. As starting 7 / 25, as second 5 / 25\n",
      "Won 1 / 50 agains 80 episodes. As starting 1 / 25, as second 0 / 25\n",
      "Won 0 / 50 agains 120 episodes. As starting 0 / 25, as second 0 / 25\n",
      "Won 0 / 50 agains 160 episodes. As starting 0 / 25, as second 0 / 25\n",
      "Won 0 / 50 agains 200 episodes. As starting 0 / 25, as second 0 / 25\n",
      "================================================================\n",
      "\n",
      "Results for 40 episodes:\n",
      "================================================================\n",
      "Won 38 / 50 agains 0 episodes. As starting 18 / 25, as second 20 / 25\n",
      "Won 5 / 50 agains 80 episodes. As starting 4 / 25, as second 1 / 25\n",
      "Won 4 / 50 agains 120 episodes. As starting 3 / 25, as second 1 / 25\n",
      "Won 1 / 50 agains 160 episodes. As starting 1 / 25, as second 0 / 25\n",
      "Won 0 / 50 agains 200 episodes. As starting 0 / 25, as second 0 / 25\n",
      "================================================================\n",
      "\n",
      "Results for 80 episodes:\n",
      "================================================================\n",
      "Won 49 / 50 agains 0 episodes. As starting 24 / 25, as second 25 / 25\n",
      "Won 45 / 50 agains 40 episodes. As starting 21 / 25, as second 24 / 25\n",
      "Won 14 / 50 agains 120 episodes. As starting 13 / 25, as second 1 / 25\n",
      "Won 12 / 50 agains 160 episodes. As starting 10 / 25, as second 2 / 25\n",
      "Won 4 / 50 agains 200 episodes. As starting 4 / 25, as second 0 / 25\n",
      "================================================================\n",
      "\n",
      "Results for 120 episodes:\n",
      "================================================================\n",
      "Won 50 / 50 agains 0 episodes. As starting 25 / 25, as second 25 / 25\n",
      "Won 46 / 50 agains 40 episodes. As starting 22 / 25, as second 24 / 25\n",
      "Won 36 / 50 agains 80 episodes. As starting 12 / 25, as second 24 / 25\n",
      "Won 12 / 50 agains 160 episodes. As starting 10 / 25, as second 2 / 25\n",
      "Won 12 / 50 agains 200 episodes. As starting 11 / 25, as second 1 / 25\n",
      "================================================================\n",
      "\n",
      "Results for 160 episodes:\n",
      "================================================================\n",
      "Won 50 / 50 agains 0 episodes. As starting 25 / 25, as second 25 / 25\n",
      "Won 49 / 50 agains 40 episodes. As starting 24 / 25, as second 25 / 25\n",
      "Won 38 / 50 agains 80 episodes. As starting 15 / 25, as second 23 / 25\n",
      "Won 38 / 50 agains 120 episodes. As starting 15 / 25, as second 23 / 25\n",
      "Won 24 / 50 agains 200 episodes. As starting 20 / 25, as second 4 / 25\n",
      "================================================================\n",
      "\n",
      "Results for 200 episodes:\n",
      "================================================================\n",
      "Won 50 / 50 agains 0 episodes. As starting 25 / 25, as second 25 / 25\n",
      "Won 50 / 50 agains 40 episodes. As starting 25 / 25, as second 25 / 25\n",
      "Won 46 / 50 agains 80 episodes. As starting 21 / 25, as second 25 / 25\n",
      "Won 38 / 50 agains 120 episodes. As starting 14 / 25, as second 24 / 25\n",
      "Won 26 / 50 agains 160 episodes. As starting 5 / 25, as second 21 / 25\n",
      "================================================================\n",
      "\n"
     ]
    }
   ],
   "source": [
    "Topp.play_topp([p0,p1, p2,p3,p4, p5], no_games=50)"
   ]
  }
 ],
 "metadata": {
  "interpreter": {
   "hash": "6cdaa56f2c6d00e26db56d5b38e6b72bc8bebfb9a50408d42f69785dfa696c20"
  },
  "kernelspec": {
   "display_name": "Python 3.9.7 ('tdt4195')",
   "language": "python",
   "name": "python3"
  },
  "language_info": {
   "codemirror_mode": {
    "name": "ipython",
    "version": 3
   },
   "file_extension": ".py",
   "mimetype": "text/x-python",
   "name": "python",
   "nbconvert_exporter": "python",
   "pygments_lexer": "ipython3",
   "version": "3.9.7"
  },
  "orig_nbformat": 4
 },
 "nbformat": 4,
 "nbformat_minor": 2
}
