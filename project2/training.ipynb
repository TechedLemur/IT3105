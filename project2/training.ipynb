{
 "cells": [
  {
   "cell_type": "code",
   "execution_count": 13,
   "metadata": {},
   "outputs": [
    {
     "name": "stdout",
     "output_type": "stream",
     "text": [
      "Config file:  base.json\n",
      "The autoreload extension is already loaded. To reload it, use:\n",
      "  %reload_ext autoreload\n"
     ]
    }
   ],
   "source": [
    "%load_ext autoreload\n",
    "%autoreload 2"
   ]
  },
  {
   "cell_type": "code",
   "execution_count": 1,
   "metadata": {},
   "outputs": [
    {
     "name": "stdout",
     "output_type": "stream",
     "text": [
      "Config file:  base.json\n"
     ]
    }
   ],
   "source": [
    "from actor_net import ActorNet\n",
    "import numpy as np\n",
    "from gameworlds.hex_world import HexState"
   ]
  },
  {
   "cell_type": "code",
   "execution_count": 3,
   "metadata": {},
   "outputs": [],
   "source": [
    "with open('data/2022-03-27T14-17-35_4x4.npy', 'rb') as f:\n",
    "    states = np.load(f)\n",
    "    y_train = np.load(f)\n",
    "    y_train_value = np.load(f)"
   ]
  },
  {
   "cell_type": "code",
   "execution_count": 9,
   "metadata": {},
   "outputs": [
    {
     "data": {
      "text/plain": [
       "(7348, 17)"
      ]
     },
     "execution_count": 9,
     "metadata": {},
     "output_type": "execute_result"
    }
   ],
   "source": [
    "states.shape"
   ]
  },
  {
   "cell_type": "code",
   "execution_count": 5,
   "metadata": {},
   "outputs": [],
   "source": [
    "\n",
    "x_train = np.array(list(map(HexState.from_array_to_vector, states)))"
   ]
  },
  {
   "cell_type": "code",
   "execution_count": 12,
   "metadata": {},
   "outputs": [
    {
     "data": {
      "text/plain": [
       "(5016, 17)"
      ]
     },
     "execution_count": 12,
     "metadata": {},
     "output_type": "execute_result"
    }
   ],
   "source": [
    "np.unique(states, axis=0).shape"
   ]
  },
  {
   "cell_type": "code",
   "execution_count": 8,
   "metadata": {},
   "outputs": [
    {
     "data": {
      "text/plain": [
       "array([[ 1.,  0.,  0., ...,  0.,  0.,  0.],\n",
       "       [-1., -0., -0., ..., -0., -0., -0.],\n",
       "       [ 1.,  0.,  0., ...,  0.,  0.,  0.],\n",
       "       ...,\n",
       "       [-1., -0., -0., ..., -0.,  1.,  1.],\n",
       "       [ 1., -1.,  0., ...,  0.,  0.,  0.],\n",
       "       [-1.,  1.,  1., ..., -0., -0., -0.]])"
      ]
     },
     "execution_count": 8,
     "metadata": {},
     "output_type": "execute_result"
    }
   ],
   "source": [
    "states"
   ]
  },
  {
   "cell_type": "code",
   "execution_count": 5,
   "metadata": {},
   "outputs": [],
   "source": [
    "anet = ActorNet()"
   ]
  },
  {
   "cell_type": "code",
   "execution_count": 6,
   "metadata": {},
   "outputs": [
    {
     "name": "stdout",
     "output_type": "stream",
     "text": [
      "Model: \"2HNET\"\n",
      "__________________________________________________________________________________________________\n",
      " Layer (type)                   Output Shape         Param #     Connected to                     \n",
      "==================================================================================================\n",
      " Input (InputLayer)             [(None, 7, 7, 9)]    0           []                               \n",
      "                                                                                                  \n",
      " conv2d_14 (Conv2D)             (None, 3, 3, 64)     14464       ['Input[0][0]']                  \n",
      "                                                                                                  \n",
      " leaky_re_lu_14 (LeakyReLU)     (None, 3, 3, 64)     0           ['conv2d_14[0][0]']              \n",
      "                                                                                                  \n",
      " batch_normalization_14 (BatchN  (None, 3, 3, 64)    256         ['leaky_re_lu_14[0][0]']         \n",
      " ormalization)                                                                                    \n",
      "                                                                                                  \n",
      " conv2d_16 (Conv2D)             (None, 3, 3, 64)     36928       ['batch_normalization_14[0][0]'] \n",
      "                                                                                                  \n",
      " add_4 (Add)                    (None, 3, 3, 64)     0           ['conv2d_16[0][0]',              \n",
      "                                                                  'batch_normalization_14[0][0]'] \n",
      "                                                                                                  \n",
      " leaky_re_lu_16 (LeakyReLU)     (None, 3, 3, 64)     0           ['add_4[0][0]']                  \n",
      "                                                                                                  \n",
      " batch_normalization_16 (BatchN  (None, 3, 3, 64)    256         ['leaky_re_lu_16[0][0]']         \n",
      " ormalization)                                                                                    \n",
      "                                                                                                  \n",
      " conv2d_18 (Conv2D)             (None, 3, 3, 64)     36928       ['batch_normalization_16[0][0]'] \n",
      "                                                                                                  \n",
      " add_5 (Add)                    (None, 3, 3, 64)     0           ['conv2d_18[0][0]',              \n",
      "                                                                  'batch_normalization_16[0][0]'] \n",
      "                                                                                                  \n",
      " leaky_re_lu_18 (LeakyReLU)     (None, 3, 3, 64)     0           ['add_5[0][0]']                  \n",
      "                                                                                                  \n",
      " batch_normalization_18 (BatchN  (None, 3, 3, 64)    256         ['leaky_re_lu_18[0][0]']         \n",
      " ormalization)                                                                                    \n",
      "                                                                                                  \n",
      " conv2d_20 (Conv2D)             (None, 3, 3, 1)      65          ['batch_normalization_18[0][0]'] \n",
      "                                                                                                  \n",
      " conv2d_19 (Conv2D)             (None, 3, 3, 1)      65          ['batch_normalization_18[0][0]'] \n",
      "                                                                                                  \n",
      " leaky_re_lu_20 (LeakyReLU)     (None, 3, 3, 1)      0           ['conv2d_20[0][0]']              \n",
      "                                                                                                  \n",
      " leaky_re_lu_19 (LeakyReLU)     (None, 3, 3, 1)      0           ['conv2d_19[0][0]']              \n",
      "                                                                                                  \n",
      " batch_normalization_20 (BatchN  (None, 3, 3, 1)     4           ['leaky_re_lu_20[0][0]']         \n",
      " ormalization)                                                                                    \n",
      "                                                                                                  \n",
      " batch_normalization_19 (BatchN  (None, 3, 3, 1)     4           ['leaky_re_lu_19[0][0]']         \n",
      " ormalization)                                                                                    \n",
      "                                                                                                  \n",
      " flatten_5 (Flatten)            (None, 9)            0           ['batch_normalization_20[0][0]'] \n",
      "                                                                                                  \n",
      " flatten_4 (Flatten)            (None, 9)            0           ['batch_normalization_19[0][0]'] \n",
      "                                                                                                  \n",
      " dense_2 (Dense)                (None, 50)           500         ['flatten_5[0][0]']              \n",
      "                                                                                                  \n",
      " policy (Dense)                 (None, 9)            90          ['flatten_4[0][0]']              \n",
      "                                                                                                  \n",
      " value (Dense)                  (None, 1)            51          ['dense_2[0][0]']                \n",
      "                                                                                                  \n",
      "==================================================================================================\n",
      "Total params: 89,867\n",
      "Trainable params: 89,479\n",
      "Non-trainable params: 388\n",
      "__________________________________________________________________________________________________\n"
     ]
    }
   ],
   "source": [
    "anet.model.summary()"
   ]
  },
  {
   "cell_type": "code",
   "execution_count": null,
   "metadata": {},
   "outputs": [],
   "source": [
    "scaled = y_train ** 5"
   ]
  },
  {
   "cell_type": "code",
   "execution_count": null,
   "metadata": {},
   "outputs": [],
   "source": [
    "scaled = scaled / np.sum(scaled, axis=1).reshape(len(scaled), 1)"
   ]
  },
  {
   "cell_type": "code",
   "execution_count": null,
   "metadata": {},
   "outputs": [],
   "source": [
    "anet.train(x_train=x_train,y_train=scaled, y_train_value=y_train_value, epochs=100)"
   ]
  },
  {
   "cell_type": "code",
   "execution_count": null,
   "metadata": {},
   "outputs": [],
   "source": [
    "anet.save_params(201)"
   ]
  }
 ],
 "metadata": {
  "interpreter": {
   "hash": "6cdaa56f2c6d00e26db56d5b38e6b72bc8bebfb9a50408d42f69785dfa696c20"
  },
  "kernelspec": {
   "display_name": "Python 3.9.7 ('tdt4195')",
   "language": "python",
   "name": "python3"
  },
  "language_info": {
   "codemirror_mode": {
    "name": "ipython",
    "version": 3
   },
   "file_extension": ".py",
   "mimetype": "text/x-python",
   "name": "python",
   "nbconvert_exporter": "python",
   "pygments_lexer": "ipython3",
   "version": "3.9.7"
  },
  "orig_nbformat": 4
 },
 "nbformat": 4,
 "nbformat_minor": 2
}
