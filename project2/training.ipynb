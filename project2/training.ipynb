{
 "cells": [
  {
   "cell_type": "code",
   "execution_count": 1,
   "metadata": {},
   "outputs": [],
   "source": [
    "%load_ext autoreload\n",
    "%autoreload 2"
   ]
  },
  {
   "cell_type": "code",
   "execution_count": 1,
   "metadata": {},
   "outputs": [
    {
     "name": "stdout",
     "output_type": "stream",
     "text": [
      "Config file:  7x7zero.json\n"
     ]
    }
   ],
   "source": [
    "from actor_net import ActorNet\n",
    "import numpy as np\n",
    "from gameworlds.hex_world import HexState"
   ]
  },
  {
   "cell_type": "code",
   "execution_count": 3,
   "metadata": {},
   "outputs": [],
   "source": [
    "with open('data/2022-03-28T18-29-14_7x7/2022-03-28T18-29-14_7x7.npy', 'rb') as f: # First VM \n",
    "    states = np.load(f)\n",
    "    y_train = np.load(f)\n",
    "    y_train_value = np.load(f)"
   ]
  },
  {
   "cell_type": "code",
   "execution_count": 4,
   "metadata": {},
   "outputs": [],
   "source": [
    "with open('data/2022-03-28T20-40-02_7x7/2022-03-28T20-40-02_7x7.npy', 'rb') as f: # Second VM\n",
    "    states2 = np.load(f)\n",
    "    y_train2 = np.load(f)\n",
    "    y_train_value2 = np.load(f)"
   ]
  },
  {
   "cell_type": "code",
   "execution_count": 64,
   "metadata": {},
   "outputs": [],
   "source": [
    "with open('data/2022-03-29T15-15-41_7x7/2022-03-29T15-15-41_7x7.npy', 'rb') as f: # 6 paralell , too high C_puct\n",
    "    states3 = np.load(f)\n",
    "    y_train3 = np.load(f)\n",
    "    y_train_value3 = np.load(f)"
   ]
  },
  {
   "cell_type": "code",
   "execution_count": 58,
   "metadata": {},
   "outputs": [],
   "source": [
    "with open('data/2022-03-28T20-38-02_7x7/2022-03-28T20-38-02_7x7.npy', 'rb') as f: # Third VM\n",
    "    states4 = np.load(f)\n",
    "    y_train4 = np.load(f)\n",
    "    y_train_value4 = np.load(f)"
   ]
  },
  {
   "cell_type": "code",
   "execution_count": 61,
   "metadata": {},
   "outputs": [],
   "source": [
    "with open('data/2022-03-28T20-41-03_7x7/2022-03-28T20-41-03_7x7.npy', 'rb') as f: # Fourth VM\n",
    "    states5 = np.load(f)\n",
    "    y_train5 = np.load(f)\n",
    "    y_train_value5 = np.load(f)"
   ]
  },
  {
   "cell_type": "code",
   "execution_count": 146,
   "metadata": {},
   "outputs": [],
   "source": [
    "with open('data/2022-03-27T19-41-30_7x7\\dataset/2022-03-27T19-41-30_7x7.npy', 'rb') as f: # Fourth VM\n",
    "    states6 = np.load(f)\n",
    "    y_train6 = np.load(f)\n",
    "    y_train_value6 = np.load(f)"
   ]
  },
  {
   "cell_type": "code",
   "execution_count": 9,
   "metadata": {},
   "outputs": [],
   "source": [
    "with open('data/2022-03-28T19-37-32_7x7/2022-03-28T19-37-32_7x7.npy', 'rb') as f: # 500 ep\n",
    "    states7 = np.load(f)\n",
    "    y_train7 = np.load(f)\n",
    "    y_train_value7 = np.load(f)"
   ]
  },
  {
   "cell_type": "code",
   "execution_count": 3,
   "metadata": {},
   "outputs": [],
   "source": [
    "with open('data/2022-03-28T20-35-56_7x7/2022-03-28T20-35-56_7x7.npy', 'rb') as f: # 0.005 ep\n",
    "    states8 = np.load(f)\n",
    "    y_train8 = np.load(f)\n",
    "    y_train_value8 = np.load(f)"
   ]
  },
  {
   "cell_type": "code",
   "execution_count": 12,
   "metadata": {},
   "outputs": [],
   "source": [
    "with open('data/middle40/2022-03-30T01-29-19_7x7.npy', 'rb') as f: # 500 ep\n",
    "    states0 = np.load(f)\n",
    "    y_train0 = np.load(f)\n",
    "    y_train_value0 = np.load(f)"
   ]
  },
  {
   "cell_type": "code",
   "execution_count": 13,
   "metadata": {},
   "outputs": [
    {
     "data": {
      "text/plain": [
       "(29320, 50)"
      ]
     },
     "execution_count": 13,
     "metadata": {},
     "output_type": "execute_result"
    }
   ],
   "source": [
    "states0.shape"
   ]
  },
  {
   "cell_type": "code",
   "execution_count": 15,
   "metadata": {},
   "outputs": [
    {
     "data": {
      "text/plain": [
       "(8398, 50)"
      ]
     },
     "execution_count": 15,
     "metadata": {},
     "output_type": "execute_result"
    }
   ],
   "source": [
    "np.unique(states0[-20000:], axis=0).shape"
   ]
  },
  {
   "cell_type": "code",
   "execution_count": 147,
   "metadata": {},
   "outputs": [],
   "source": [
    "states6, y_train6, y_train_value6 = deduplicate(states6, y_train6, y_train_value6)"
   ]
  },
  {
   "cell_type": "code",
   "execution_count": 134,
   "metadata": {},
   "outputs": [
    {
     "data": {
      "text/plain": [
       "(25716, 50)"
      ]
     },
     "execution_count": 134,
     "metadata": {},
     "output_type": "execute_result"
    }
   ],
   "source": [
    "states6.shape"
   ]
  },
  {
   "cell_type": "code",
   "execution_count": 125,
   "metadata": {},
   "outputs": [],
   "source": [
    "x = np.concatenate((states, states2, states3, states4, states5))\n",
    "y = np.concatenate((y_train, y_train2, y_train3, y_train4, y_train5))\n",
    "y_val = np.concatenate((y_train_value, y_train_value2,  y_train_value3,  y_train_value4,  y_train_value5))"
   ]
  },
  {
   "cell_type": "code",
   "execution_count": 127,
   "metadata": {},
   "outputs": [
    {
     "data": {
      "text/plain": [
       "(92324, 50)"
      ]
     },
     "execution_count": 127,
     "metadata": {},
     "output_type": "execute_result"
    }
   ],
   "source": [
    "x.shape"
   ]
  },
  {
   "cell_type": "code",
   "execution_count": 111,
   "metadata": {},
   "outputs": [],
   "source": [
    "def deduplicate(states, y, y_v):\n",
    "    unique = np.unique(states, axis=0)\n",
    "    new_state = []\n",
    "    new_y = []\n",
    "    new_y_v =[]\n",
    "    for s in unique:\n",
    "\n",
    "        ind = np.all(states == s, axis=1)\n",
    "\n",
    "        avg_y = np.average(y[ind], axis=0)\n",
    "        avg_v = np.average(y_v[ind], axis=0)\n",
    "\n",
    "        new_state.append(s)\n",
    "        new_y.append(avg_y)\n",
    "        new_y_v.append(avg_v)\n",
    "\n",
    "    return np.array(new_state), np.array(new_y), np.array(new_y_v)\n",
    "\n"
   ]
  },
  {
   "cell_type": "code",
   "execution_count": 126,
   "metadata": {},
   "outputs": [],
   "source": [
    "x_unique, y_unique, v_unique = deduplicate(states=x, y=y, y_v=y_val)"
   ]
  },
  {
   "cell_type": "code",
   "execution_count": 128,
   "metadata": {},
   "outputs": [
    {
     "data": {
      "text/plain": [
       "(28104, 50)"
      ]
     },
     "execution_count": 128,
     "metadata": {},
     "output_type": "execute_result"
    }
   ],
   "source": [
    "x_unique.shape"
   ]
  },
  {
   "cell_type": "code",
   "execution_count": 149,
   "metadata": {},
   "outputs": [],
   "source": [
    "super_x, super_y, super_v = deduplicate(np.concatenate((x_unique, states6)), np.concatenate((y_unique, y_train6)), np.concatenate((v_unique,y_train_value6)))"
   ]
  },
  {
   "cell_type": "code",
   "execution_count": 151,
   "metadata": {},
   "outputs": [
    {
     "data": {
      "text/plain": [
       "(53724, 50)"
      ]
     },
     "execution_count": 151,
     "metadata": {},
     "output_type": "execute_result"
    }
   ],
   "source": [
    "np.unique(super_x, axis=0).shape"
   ]
  },
  {
   "cell_type": "code",
   "execution_count": 157,
   "metadata": {},
   "outputs": [
    {
     "name": "stdout",
     "output_type": "stream",
     "text": [
      "Config file:  7x7zero.json\n"
     ]
    }
   ],
   "source": [
    "with open(f\"data/super.npy\", \"wb\") as f:\n",
    "    np.save(f, super_x)\n",
    "    np.save(f, super_y)\n",
    "    np.save(f, super_v)"
   ]
  },
  {
   "cell_type": "code",
   "execution_count": 2,
   "metadata": {},
   "outputs": [],
   "source": [
    "with open(f\"data/super.npy\", \"rb\") as f:\n",
    "    super_x = np.load(f)\n",
    "    super_y = np.load(f)\n",
    "    super_v = np.load(f)"
   ]
  },
  {
   "cell_type": "code",
   "execution_count": 40,
   "metadata": {},
   "outputs": [],
   "source": [
    "n_last = 5000"
   ]
  },
  {
   "cell_type": "code",
   "execution_count": 41,
   "metadata": {},
   "outputs": [],
   "source": [
    "x = np.concatenate((states[-n_last:], states2[-n_last:]))\n",
    "y = np.concatenate((y_train[-n_last:], y_train2[-n_last:]))\n",
    "y_val = np.concatenate((y_train_value[-n_last:], y_train_value2[-n_last:]))"
   ]
  },
  {
   "cell_type": "code",
   "execution_count": 16,
   "metadata": {},
   "outputs": [],
   "source": [
    "\n",
    "x_train = np.array(list(map(HexState.from_array_to_vector, states0)))"
   ]
  },
  {
   "cell_type": "code",
   "execution_count": 10,
   "metadata": {},
   "outputs": [],
   "source": [
    "with open(f\"data/super_x.npy\", \"wb\") as f:\n",
    "    np.save(f,x_train)"
   ]
  },
  {
   "cell_type": "code",
   "execution_count": 3,
   "metadata": {},
   "outputs": [],
   "source": [
    "with open(f\"data/super_x.npy\", \"rb\") as f:\n",
    "    x_train = np.load(f)"
   ]
  },
  {
   "cell_type": "code",
   "execution_count": 8,
   "metadata": {},
   "outputs": [],
   "source": [
    "anet = ActorNet(\"./data/middle40\")"
   ]
  },
  {
   "cell_type": "code",
   "execution_count": 9,
   "metadata": {},
   "outputs": [],
   "source": [
    "anet.load_params(99, \"7x7\")"
   ]
  },
  {
   "cell_type": "code",
   "execution_count": 5,
   "metadata": {},
   "outputs": [],
   "source": [
    "scaled = super_y ** 5"
   ]
  },
  {
   "cell_type": "code",
   "execution_count": 6,
   "metadata": {},
   "outputs": [],
   "source": [
    "scaled = scaled / np.sum(scaled, axis=1).reshape(len(scaled), 1)"
   ]
  },
  {
   "cell_type": "code",
   "execution_count": 17,
   "metadata": {},
   "outputs": [
    {
     "name": "stdout",
     "output_type": "stream",
     "text": [
      "Epoch 1/3\n",
      "302/302 [==============================] - 6s 21ms/step - loss: 1.5444 - policy_loss: 1.3901 - value_loss: 0.1543 - policy_accuracy: 0.6931 - value_accuracy: 0.0468\n",
      "Epoch 2/3\n",
      "302/302 [==============================] - 6s 20ms/step - loss: 1.3374 - policy_loss: 1.2249 - value_loss: 0.1125 - policy_accuracy: 0.7371 - value_accuracy: 0.0477\n",
      "Epoch 3/3\n",
      "302/302 [==============================] - 6s 20ms/step - loss: 1.2991 - policy_loss: 1.1961 - value_loss: 0.1030 - policy_accuracy: 0.7479 - value_accuracy: 0.0480\n"
     ]
    }
   ],
   "source": [
    "anet.train(x_train=x_train[10000:],y_train=y_train0[10000:], y_train_value=y_train_value0[10000:], epochs=3, batch_size=64)"
   ]
  },
  {
   "cell_type": "code",
   "execution_count": 19,
   "metadata": {},
   "outputs": [],
   "source": [
    "anet.save_params(8, \"7x7\")"
   ]
  },
  {
   "cell_type": "code",
   "execution_count": 18,
   "metadata": {},
   "outputs": [
    {
     "data": {
      "text/plain": [
       "HexAction(row=3, col=3)"
      ]
     },
     "execution_count": 18,
     "metadata": {},
     "output_type": "execute_result"
    }
   ],
   "source": [
    "anet.select_action(HexState.empty_board(), greedy=True, argmax=True)"
   ]
  }
 ],
 "metadata": {
  "interpreter": {
   "hash": "6cdaa56f2c6d00e26db56d5b38e6b72bc8bebfb9a50408d42f69785dfa696c20"
  },
  "kernelspec": {
   "display_name": "Python 3.9.7 ('tdt4195')",
   "language": "python",
   "name": "python3"
  },
  "language_info": {
   "codemirror_mode": {
    "name": "ipython",
    "version": 3
   },
   "file_extension": ".py",
   "mimetype": "text/x-python",
   "name": "python",
   "nbconvert_exporter": "python",
   "pygments_lexer": "ipython3",
   "version": "3.9.7"
  },
  "orig_nbformat": 4
 },
 "nbformat": 4,
 "nbformat_minor": 2
}
