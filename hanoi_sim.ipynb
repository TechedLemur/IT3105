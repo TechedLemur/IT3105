{
 "cells": [
  {
   "cell_type": "code",
   "execution_count": 204,
   "metadata": {},
   "outputs": [
    {
     "name": "stdout",
     "output_type": "stream",
     "text": [
      "The autoreload extension is already loaded. To reload it, use:\n",
      "  %reload_ext autoreload\n"
     ]
    }
   ],
   "source": [
    "%load_ext autoreload\n",
    "%autoreload 2"
   ]
  },
  {
   "cell_type": "code",
   "execution_count": 205,
   "metadata": {},
   "outputs": [],
   "source": [
    "from simworlds.hanoi_world import HanoiWorld\n",
    "from rl.actor import Actor\n",
    "from rl.critic import Critic\n",
    "import numpy as np\n",
    "import pandas as pd\n",
    "import seaborn as sns"
   ]
  },
  {
   "cell_type": "code",
   "execution_count": 206,
   "metadata": {},
   "outputs": [],
   "source": [
    "a = Actor(alpha=0.02, gamma=0.85, lambda_lr=0.9, epsilon=0.8)\n",
    "c = Critic(isTableNotNeural=True, alpha=0.02, gamma=0.9, lambda_lr=0.9)"
   ]
  },
  {
   "cell_type": "code",
   "execution_count": 207,
   "metadata": {},
   "outputs": [],
   "source": [
    "episodes = range(200)\n",
    "steps = range(100)\n",
    "scores = []\n",
    "for episode in episodes:\n",
    "    \n",
    "    world = HanoiWorld()\n",
    "    state_0 = world.get_state()\n",
    "    \n",
    "    c.reset_episode(state_0)\n",
    "    a.reset_episode()\n",
    "\n",
    "    state = state_0\n",
    "    legal_actions = world.get_legal_actions()\n",
    "    action = a.select_action(state, legal_actions)\n",
    "\n",
    "    flag = False\n",
    "    while not flag:\n",
    "\n",
    "        new_state, reward = world.do_action(action)  # Step 1\n",
    "\n",
    "        legal_actions = world.get_legal_actions()\n",
    "        \n",
    "        if new_state.is_final_state:\n",
    "            flag = True\n",
    "            scores.append(world.moves)\n",
    "        else:        \n",
    "            new_action = a.select_action(new_state, legal_actions)  # Step 2\n",
    "\n",
    "        a.update_eligibility(state, action)  # Step 3\n",
    "\n",
    "        td = c.calculate_td(state, new_state, reward)  # step 4,5\n",
    "\n",
    "        # step 6\n",
    "        c.update(td)\n",
    "        a.update(td)\n",
    "\n",
    "        # Step 7\n",
    "        action = new_action\n",
    "        state = new_state\n",
    "        \n"
   ]
  },
  {
   "cell_type": "code",
   "execution_count": 208,
   "metadata": {},
   "outputs": [
    {
     "data": {
      "text/plain": [
       "<AxesSubplot:>"
      ]
     },
     "execution_count": 208,
     "metadata": {},
     "output_type": "execute_result"
    },
    {
     "data": {
      "image/png": "[encoded data removed]",
      "text/plain": [
       "<Figure size 432x288 with 1 Axes>"
      ]
     },
     "metadata": {
      "needs_background": "light"
     },
     "output_type": "display_data"
    }
   ],
   "source": [
    "y = np.array(scores)\n",
    "sns.lineplot( data=y)"
   ]
  },
  {
   "cell_type": "code",
   "execution_count": 209,
   "metadata": {},
   "outputs": [
    {
     "data": {
      "text/plain": [
       "array([7, 8, 7, 7, 8, 7, 7, 8, 7, 7])"
      ]
     },
     "execution_count": 209,
     "metadata": {},
     "output_type": "execute_result"
    }
   ],
   "source": [
    "y[-10:]"
   ]
  }
 ],
 "metadata": {
  "interpreter": {
   "hash": "04d93de342e0908d40440fee24b3ec4cdea7499c9aa7188663b982e41d2a6c86"
  },
  "kernelspec": {
   "display_name": "Python 3.8.12 64-bit ('tflow': conda)",
   "language": "python",
   "name": "python3"
  },
  "language_info": {
   "codemirror_mode": {
    "name": "ipython",
    "version": 3
   },
   "file_extension": ".py",
   "mimetype": "text/x-python",
   "name": "python",
   "nbconvert_exporter": "python",
   "pygments_lexer": "ipython3",
   "version": "3.8.12"
  },
  "orig_nbformat": 4
 },
 "nbformat": 4,
 "nbformat_minor": 2
}
